{
 "cells": [
  {
   "cell_type": "raw",
   "id": "ff291f9a",
   "metadata": {},
   "source": [
    "Note to mySelf:\n",
    "on the terminal\n",
    "-start-dfs.sh\n",
    "-start-yarn.sh\n",
    "-pyspark\n",
    "\n",
    "-source ~/CA1-2sem/bin/activate (to install packges inside of my enviroment)"
   ]
  },
  {
   "cell_type": "code",
   "execution_count": 1,
   "id": "89448fce",
   "metadata": {},
   "outputs": [],
   "source": [
    "# Due the different version of python can be found and each machine or libriries \n",
    "# I just decided to use this library to avoid distraction and anoing warnigs\n",
    "import warnings\n",
    "warnings.filterwarnings(\"ignore\")"
   ]
  },
  {
   "cell_type": "code",
   "execution_count": 2,
   "id": "3e3ba179",
   "metadata": {
    "scrolled": true
   },
   "outputs": [],
   "source": [
    "import pandas as pd\n",
    "import numpy as np\n",
    "import tensorflow as tf\n",
    "from sklearn.preprocessing import MinMaxScaler\n",
    "from tensorflow.keras.models import Sequential\n",
    "from tensorflow.keras.layers import LSTM, Dense\n",
    "from tensorflow.keras.optimizers import Adam"
   ]
  },
  {
   "cell_type": "markdown",
   "id": "dfab47dd",
   "metadata": {},
   "source": [
    "## Licence of use"
   ]
  },
  {
   "cell_type": "markdown",
   "id": "49e6416f",
   "metadata": {},
   "source": [
    "Working with Room Occupancy Estimation: That dataset was collected from UCI Machine Learning Repository -https://archive.ics.uci.edu/dataset/864/room+occupancy+estimation\n",
    "licence by Creative Commons Attribution 4.0 (CC BY 4.0) https://creativecommons.org/licenses/by/4.0/"
   ]
  },
  {
   "cell_type": "markdown",
   "id": "8e68325e",
   "metadata": {},
   "source": [
    "## About the dataset\n",
    "\n",
    "    -> The experimental testbed for occupancy estimation was deployed in a 6m x 4.6m room. The setup consisted of 7 sensor nodes and one edge node in a star configuration with the sensor nodes transmitting data to the edge every 30s using wireless transceivers.\n",
    "    -> The data was collected for a period of 4 days in a controlled manner with the occupancy in the room varying between 0 and 3 people. The ground truth of the occupancy count in the room was noted manually."
   ]
  },
  {
   "cell_type": "code",
   "execution_count": 3,
   "id": "943c23a9",
   "metadata": {},
   "outputs": [
    {
     "name": "stderr",
     "output_type": "stream",
     "text": [
      "24/04/04 22:37:43 WARN SparkSession: Using an existing Spark session; only runtime SQL configurations will take effect.\n"
     ]
    }
   ],
   "source": [
    "from pyspark.sql import SparkSession\n",
    "\n",
    "spark = SparkSession.builder \\\n",
    "    .master(\"local\") \\\n",
    "    .appName(\"Occupancy Estimation\") \\\n",
    "    .getOrCreate()"
   ]
  },
  {
   "cell_type": "code",
   "execution_count": 4,
   "id": "14a94b2a",
   "metadata": {},
   "outputs": [
    {
     "name": "stderr",
     "output_type": "stream",
     "text": [
      "\r",
      "[Stage 0:>                                                          (0 + 1) / 1]\r",
      "\r",
      "                                                                                \r"
     ]
    }
   ],
   "source": [
    "# Loading dataset from HDFS - Biga data Tecnology to storage\n",
    "df = spark.read.csv(\"hdfs:///user1/Occupancy_Estimation.csv\", header=True, inferSchema=True)"
   ]
  },
  {
   "cell_type": "markdown",
   "id": "374facd0",
   "metadata": {},
   "source": [
    "# Preprocessing the dataset with PySpark \n",
    "    \n",
    "     - EDA\n",
    "     - Cleaning features that won't be used by the LSTM --> Feature Engineering\n",
    "     - Converting to a Pandas Df to preprocecing\n",
    "     - Normalization"
   ]
  },
  {
   "cell_type": "code",
   "execution_count": 5,
   "id": "345cc215",
   "metadata": {},
   "outputs": [
    {
     "name": "stdout",
     "output_type": "stream",
     "text": [
      "root\n",
      " |-- Date: string (nullable = true)\n",
      " |-- Time: timestamp (nullable = true)\n",
      " |-- S1_Temp: double (nullable = true)\n",
      " |-- S2_Temp: double (nullable = true)\n",
      " |-- S3_Temp: double (nullable = true)\n",
      " |-- S4_Temp: double (nullable = true)\n",
      " |-- S1_Light: integer (nullable = true)\n",
      " |-- S2_Light: integer (nullable = true)\n",
      " |-- S3_Light: integer (nullable = true)\n",
      " |-- S4_Light: integer (nullable = true)\n",
      " |-- S1_Sound: double (nullable = true)\n",
      " |-- S2_Sound: double (nullable = true)\n",
      " |-- S3_Sound: double (nullable = true)\n",
      " |-- S4_Sound: double (nullable = true)\n",
      " |-- S5_CO2: integer (nullable = true)\n",
      " |-- S5_CO2_Slope: double (nullable = true)\n",
      " |-- S6_PIR: integer (nullable = true)\n",
      " |-- S7_PIR: integer (nullable = true)\n",
      " |-- Room_Occupancy_Count: integer (nullable = true)\n",
      "\n"
     ]
    },
    {
     "name": "stderr",
     "output_type": "stream",
     "text": [
      "24/04/04 12:22:16 WARN package: Truncated the string representation of a plan since it was too large. This behavior can be adjusted by setting 'spark.sql.debug.maxToStringFields'.\n",
      "[Stage 2:>                                                          (0 + 1) / 1]\r"
     ]
    },
    {
     "name": "stdout",
     "output_type": "stream",
     "text": [
      "+-------+----------+------------------+------------------+-------------------+------------------+------------------+------------------+-----------------+-----------------+-------------------+-------------------+-------------------+-------------------+------------------+--------------------+-------------------+-------------------+--------------------+\n",
      "|summary|      Date|           S1_Temp|           S2_Temp|            S3_Temp|           S4_Temp|          S1_Light|          S2_Light|         S3_Light|         S4_Light|           S1_Sound|           S2_Sound|           S3_Sound|           S4_Sound|            S5_CO2|        S5_CO2_Slope|             S6_PIR|             S7_PIR|Room_Occupancy_Count|\n",
      "+-------+----------+------------------+------------------+-------------------+------------------+------------------+------------------+-----------------+-----------------+-------------------+-------------------+-------------------+-------------------+------------------+--------------------+-------------------+-------------------+--------------------+\n",
      "|  count|     10129|             10129|             10129|              10129|             10129|             10129|             10129|            10129|            10129|              10129|              10129|              10129|              10129|             10129|               10129|              10129|              10129|               10129|\n",
      "|   mean|      null|25.454012242078203| 25.54605884095266| 25.056620594333857|25.754124790207086|25.445058742225292|26.016289860795734|34.24849442195676|13.22025866324415|0.16817751011942533|0.12006614670744918|0.15811926152627273|0.10384045809063676|  460.860400829302|-0.00483000068350229|0.09013722973640044|0.07957350182643894|  0.3985585941356501|\n",
      "| stddev|      null| 0.351350551388067|0.5863254509673754|0.42728250832189574| 0.356434071686561| 51.01126404586223| 67.30417025816692|58.40074377922952|19.60221922917804| 0.3167091032568891|  0.266502502233752| 0.4136366134889066|0.12068279538984712|199.96493980975043|  1.1649895813031426| 0.2863924006559917| 0.2706451389275408|  0.8936330738301977|\n",
      "|    min|2017/12/22|             24.94|             24.75|              24.44|             24.94|                 0|                 0|                0|                0|               0.06|               0.04|               0.04|               0.05|               345|      -6.29615384615|                  0|                  0|                   0|\n",
      "|    max|2018/01/11|             26.38|              29.0|              26.19|             26.56|               165|               258|              280|               74|               3.88|               3.44|               3.67|                3.4|              1270|       8.98076923077|                  1|                  1|                   3|\n",
      "+-------+----------+------------------+------------------+-------------------+------------------+------------------+------------------+-----------------+-----------------+-------------------+-------------------+-------------------+-------------------+------------------+--------------------+-------------------+-------------------+--------------------+\n",
      "\n"
     ]
    },
    {
     "name": "stderr",
     "output_type": "stream",
     "text": [
      "\r",
      "                                                                                \r"
     ]
    }
   ],
   "source": [
    "# Print the schema to understand the data types\n",
    "df.printSchema()\n",
    "\n",
    "# Summary statistics for numerical columns\n",
    "df.describe().show()"
   ]
  },
  {
   "cell_type": "code",
   "execution_count": null,
   "id": "2d3309ac",
   "metadata": {},
   "outputs": [],
   "source": [
    "from pyspark.sql.functions import col, count\n",
    "\n",
    "# Count the total number of entries\n",
    "total_entries = df.count()\n",
    "\n",
    "# Count the number of non-null (non-missing) values in each column\n",
    "non_missing_counts = df.agg(*(count(c).alias(c) for c in df.columns))\n",
    "\n",
    "# To view the results\n",
    "non_missing_counts.show()\n",
    "\n",
    "# Calculating missing values by subtracting non-missing from total entries\n",
    "# This involves converting the DataFrame to a Pandas DataFrame for easier manipulation\n",
    "non_missing_counts_pandas = non_missing_counts.toPandas()\n",
    "missing_values = total_entries - non_missing_counts_pandas.iloc[0]\n",
    "print(\"Missing values in each column:\\n\", missing_values)\n"
   ]
  },
  {
   "cell_type": "markdown",
   "id": "24a90442",
   "metadata": {},
   "source": [
    "# Features and Target\n",
    "\n",
    " - Target is predict Room Ocuppancy which is(Room_Occupancy_Count)\n",
    " - All the sensors readings would be the features to be analysed\n",
    " - Let's perform a better Feature Engineering - separating onto differents df"
   ]
  },
  {
   "cell_type": "code",
   "execution_count": 5,
   "id": "db84bb1c",
   "metadata": {},
   "outputs": [],
   "source": [
    "# Separating features and target variable - This step here it's just to don't go and just drop features.\n",
    "feature_columns = [col for col in df.columns if col not in {'Date', 'Time', 'Room_Occupancy_Count'}]\n",
    "features_df = df.select(*feature_columns)\n",
    "target_df = df.select('Room_Occupancy_Count')"
   ]
  },
  {
   "cell_type": "code",
   "execution_count": 7,
   "id": "7e10fb7d",
   "metadata": {},
   "outputs": [],
   "source": [
    "# features_df and target_df are a Spark DataFrames also, convert those to Pandas for normalization(Features)\n",
    "pandas_features_df = features_df.toPandas()\n",
    "pandas_target_df = target_df.toPandas()"
   ]
  },
  {
   "cell_type": "code",
   "execution_count": 8,
   "id": "7d925dfa",
   "metadata": {},
   "outputs": [],
   "source": [
    "# One-hot encode the target variable to perform classification to a categorical format\n",
    "pandas_target_df_categorical = pd.get_dummies(pandas_target_df['Room_Occupancy_Count'])"
   ]
  },
  {
   "cell_type": "code",
   "execution_count": 9,
   "id": "3a866e46",
   "metadata": {},
   "outputs": [],
   "source": [
    "# Normalize the feature data\n",
    "scaler_features = MinMaxScaler(feature_range=(0, 1))\n",
    "pandas_features_df_scaled = pd.DataFrame(scaler_features.fit_transform(pandas_features_df),\n",
    "                                         columns=pandas_features_df.columns)"
   ]
  },
  {
   "cell_type": "markdown",
   "id": "b6e5707e",
   "metadata": {},
   "source": [
    "## Autocorrelation and time steps\n",
    "\n",
    "    Each observation in this dataset was measured every 30 seconds, in order to capture trends or patterns\n",
    "    within a 30-minute window, has to follow the formula\n",
    "### (30 × 60) ÷ 30 = <code>60 time steps.</code> (reading is 30min times 60 seconds divided by 30 seconds)"
   ]
  },
  {
   "cell_type": "code",
   "execution_count": 47,
   "id": "7cc813ab",
   "metadata": {},
   "outputs": [],
   "source": [
    "# Converting the Full spark data set to pandas making a copy\n",
    "df_spk = spark.read.csv(\"hdfs:///user1/Occupancy_Estimation.csv\", header=True, inferSchema=True)"
   ]
  },
  {
   "cell_type": "code",
   "execution_count": 51,
   "id": "39bcd580",
   "metadata": {},
   "outputs": [
    {
     "data": {
      "text/plain": [
       "DataFrame[Date: string, Time: timestamp, S1_Temp: double, S2_Temp: double, S3_Temp: double, S4_Temp: double, S1_Light: int, S2_Light: int, S3_Light: int, S4_Light: int, S1_Sound: double, S2_Sound: double, S3_Sound: double, S4_Sound: double, S5_CO2: int, S5_CO2_Slope: double, S6_PIR: int, S7_PIR: int, Room_Occupancy_Count: int]"
      ]
     },
     "execution_count": 51,
     "metadata": {},
     "output_type": "execute_result"
    }
   ],
   "source": [
    "df_spk"
   ]
  },
  {
   "cell_type": "code",
   "execution_count": 53,
   "id": "feac2b6c",
   "metadata": {},
   "outputs": [
    {
     "name": "stdout",
     "output_type": "stream",
     "text": [
      "Correlation between S1_Temp and Room_Occupancy_Count: 0.7008681816112686\n",
      "Correlation between S2_Temp and Room_Occupancy_Count: 0.6712634874724777\n",
      "Correlation between S3_Temp and Room_Occupancy_Count: 0.6520465675239043\n",
      "Correlation between S4_Temp and Room_Occupancy_Count: 0.5265086555834034\n",
      "\u001b[1m\u001b[92mHighest Correlation between S1_Light and Room_Occupancy_Count: 0.8490580523038589\u001b[0m\n",
      "Correlation between S2_Light and Room_Occupancy_Count: 0.788763877382767\n",
      "Correlation between S3_Light and Room_Occupancy_Count: 0.7930813168051819\n",
      "Correlation between S4_Light and Room_Occupancy_Count: 0.3557147404498904\n",
      "Correlation between S1_Sound and Room_Occupancy_Count: 0.5737482916455339\n",
      "Correlation between S2_Sound and Room_Occupancy_Count: 0.5578530448115523\n",
      "Correlation between S3_Sound and Room_Occupancy_Count: 0.5316848559795653\n",
      "Correlation between S4_Sound and Room_Occupancy_Count: 0.46028734590084147\n",
      "Correlation between S5_CO2 and Room_Occupancy_Count: 0.6601444951524897\n",
      "Correlation between S5_CO2_Slope and Room_Occupancy_Count: 0.6011050011063817\n",
      "Correlation between S6_PIR and Room_Occupancy_Count: 0.6331328743786929\n",
      "Correlation between S7_PIR and Room_Occupancy_Count: 0.6951375262804877\n"
     ]
    }
   ],
   "source": [
    "from pyspark.sql import SparkSession\n",
    "from pyspark.sql.functions import col\n",
    "\n",
    "# List of sensor columns to correlate with 'Room_Occupancy_Count'\n",
    "sensor_columns = [\n",
    "    \"S1_Temp\", \"S2_Temp\", \"S3_Temp\", \"S4_Temp\",\n",
    "    \"S1_Light\", \"S2_Light\", \"S3_Light\", \"S4_Light\",\n",
    "    \"S1_Sound\", \"S2_Sound\", \"S3_Sound\", \"S4_Sound\",\n",
    "    \"S5_CO2\", \"S5_CO2_Slope\", \"S6_PIR\", \"S7_PIR\"\n",
    "]\n",
    "\n",
    "# Dictionary to store the correlation values\n",
    "correlations = {}\n",
    "\n",
    "# Calculate correlation for each sensor and store it\n",
    "for sensor in sensor_columns:\n",
    "    correlation = df_spk.stat.corr(sensor, \"Room_Occupancy_Count\")\n",
    "    correlations[sensor] = correlation\n",
    "\n",
    "# Find the maximum correlation\n",
    "max_correlation_value = max(correlations.values())\n",
    "max_correlation_sensor = [sensor for sensor, corr in correlations.items() if corr == max_correlation_value][0]\n",
    "\n",
    "# Highlight the maximum correlation in the output\n",
    "for sensor, correlation in correlations.items():\n",
    "    if sensor == max_correlation_sensor:\n",
    "        # Using ANSI escape codes for colors: \\033[1m for bold, \\033[92m for green, \\033[0m to reset\n",
    "        print(f\"\\033[1m\\033[92mHighest Correlation between {sensor} and Room_Occupancy_Count: {correlation}\\033[0m\")\n",
    "    else:\n",
    "        print(f\"Correlation between {sensor} and Room_Occupancy_Count: {correlation}\")\n"
   ]
  },
  {
   "cell_type": "code",
   "execution_count": 33,
   "id": "f939fc84",
   "metadata": {},
   "outputs": [
    {
     "data": {
      "image/png": "[encoded data removed]",
      "text/plain": [
       "<Figure size 640x480 with 1 Axes>"
      ]
     },
     "metadata": {},
     "output_type": "display_data"
    }
   ],
   "source": [
    "# To understand whcih steps would be better to the model with that data set.\n",
    "\n",
    "from statsmodels.graphics.tsaplots import plot_acf\n",
    "import matplotlib.pyplot as plt\n",
    "\n",
    "# `pandas_target_df` is a Pandas df before normalization of target variable\n",
    "plot_acf(pandas_target_df, lags=30)\n",
    "plt.show()"
   ]
  },
  {
   "cell_type": "markdown",
   "id": "303c0f9e",
   "metadata": {},
   "source": [
    "## Preparation to aproach  a LSTM model\n",
    "\n",
    "    Transforming feature and target data into sequences as we have time series data.\n",
    "    This process involves using all data available to create sequences that LSTM model can learn from it."
   ]
  },
  {
   "cell_type": "code",
   "execution_count": 34,
   "id": "7053242a",
   "metadata": {},
   "outputs": [],
   "source": [
    "# Function to create sequences\n",
    "def create_sequences(X, y, time_steps=1):\n",
    "    Xs, ys = [], []\n",
    "    for i in range(len(X) - time_steps):\n",
    "        Xs.append(X.iloc[i:(i + time_steps)].values)\n",
    "        ys.append(y[i + time_steps])\n",
    "    return np.array(Xs), np.array(ys)"
   ]
  },
  {
   "cell_type": "code",
   "execution_count": 35,
   "id": "ecb257ba",
   "metadata": {},
   "outputs": [],
   "source": [
    "# Create sequences using the scaled features and one-hot encoded target\n",
    "time_steps = 30\n",
    "X, y = create_sequences(pandas_features_df_scaled, pandas_target_df_categorical.values, time_steps=time_steps)"
   ]
  },
  {
   "cell_type": "code",
   "execution_count": 36,
   "id": "4ca5e79c",
   "metadata": {},
   "outputs": [],
   "source": [
    "# Splitting time series data for LSTM models, ensuring the split preserves the sequence's temporal order\n",
    "# Determine the split point for an 80/20 train-test split\n",
    "\n",
    "# Split the data into training and testing sets\n",
    "split_point = int(len(X) * 0.8)\n",
    "X_train, X_test = X[:split_point], X[split_point:]\n",
    "y_train, y_test = y[:split_point], y[split_point:]"
   ]
  },
  {
   "cell_type": "code",
   "execution_count": 37,
   "id": "cbbcb91b",
   "metadata": {},
   "outputs": [
    {
     "name": "stdout",
     "output_type": "stream",
     "text": [
      "(8079, 30, 16) (8079, 4) (2020, 30, 16) (2020, 4)\n"
     ]
    }
   ],
   "source": [
    "print(X_train.shape, y_train.shape, X_test.shape, y_test.shape)"
   ]
  },
  {
   "cell_type": "markdown",
   "id": "1dbe58a5",
   "metadata": {},
   "source": [
    "# LSTM model architecture"
   ]
  },
  {
   "cell_type": "code",
   "execution_count": 38,
   "id": "003108ca",
   "metadata": {},
   "outputs": [
    {
     "name": "stdout",
     "output_type": "stream",
     "text": [
      "CPU times: user 3 µs, sys: 0 ns, total: 3 µs\n",
      "Wall time: 7.87 µs\n",
      "Epoch 1/25\n"
     ]
    },
    {
     "name": "stderr",
     "output_type": "stream",
     "text": [
      "2024-04-04 22:46:21.513440: W external/local_tsl/tsl/framework/cpu_allocator_impl.cc:83] Allocation of 13960320 exceeds 10% of free system memory.\n"
     ]
    },
    {
     "name": "stdout",
     "output_type": "stream",
     "text": [
      "\u001b[1m291/291\u001b[0m \u001b[32m━━━━━━━━━━━━━━━━━━━━\u001b[0m\u001b[37m\u001b[0m \u001b[1m2s\u001b[0m 4ms/step - accuracy: 0.8105 - loss: 0.7446 - val_accuracy: 0.9691 - val_loss: 0.1414\n",
      "Epoch 2/25\n",
      "\u001b[1m291/291\u001b[0m \u001b[32m━━━━━━━━━━━━━━━━━━━━\u001b[0m\u001b[37m\u001b[0m \u001b[1m1s\u001b[0m 4ms/step - accuracy: 0.9259 - loss: 0.3027 - val_accuracy: 0.9691 - val_loss: 0.3245\n",
      "Epoch 3/25\n",
      "\u001b[1m291/291\u001b[0m \u001b[32m━━━━━━━━━━━━━━━━━━━━\u001b[0m\u001b[37m\u001b[0m \u001b[1m1s\u001b[0m 4ms/step - accuracy: 0.9422 - loss: 0.1698 - val_accuracy: 0.9691 - val_loss: 0.3104\n",
      "Epoch 4/25\n",
      "\u001b[1m291/291\u001b[0m \u001b[32m━━━━━━━━━━━━━━━━━━━━\u001b[0m\u001b[37m\u001b[0m \u001b[1m1s\u001b[0m 4ms/step - accuracy: 0.9779 - loss: 0.1191 - val_accuracy: 0.9691 - val_loss: 0.1975\n",
      "Epoch 5/25\n",
      "\u001b[1m291/291\u001b[0m \u001b[32m━━━━━━━━━━━━━━━━━━━━\u001b[0m\u001b[37m\u001b[0m \u001b[1m1s\u001b[0m 4ms/step - accuracy: 0.9826 - loss: 0.0640 - val_accuracy: 0.9691 - val_loss: 0.2288\n",
      "Epoch 6/25\n",
      "\u001b[1m291/291\u001b[0m \u001b[32m━━━━━━━━━━━━━━━━━━━━\u001b[0m\u001b[37m\u001b[0m \u001b[1m1s\u001b[0m 5ms/step - accuracy: 0.9773 - loss: 0.0850 - val_accuracy: 0.9691 - val_loss: 0.2493\n",
      "Epoch 7/25\n",
      "\u001b[1m291/291\u001b[0m \u001b[32m━━━━━━━━━━━━━━━━━━━━\u001b[0m\u001b[37m\u001b[0m \u001b[1m1s\u001b[0m 4ms/step - accuracy: 0.9862 - loss: 0.0511 - val_accuracy: 0.9691 - val_loss: 0.3536\n",
      "Epoch 8/25\n",
      "\u001b[1m291/291\u001b[0m \u001b[32m━━━━━━━━━━━━━━━━━━━━\u001b[0m\u001b[37m\u001b[0m \u001b[1m1s\u001b[0m 5ms/step - accuracy: 0.9859 - loss: 0.0481 - val_accuracy: 0.9691 - val_loss: 0.3432\n",
      "Epoch 9/25\n",
      "\u001b[1m291/291\u001b[0m \u001b[32m━━━━━━━━━━━━━━━━━━━━\u001b[0m\u001b[37m\u001b[0m \u001b[1m1s\u001b[0m 4ms/step - accuracy: 0.9880 - loss: 0.0396 - val_accuracy: 0.9691 - val_loss: 0.3144\n",
      "Epoch 10/25\n",
      "\u001b[1m291/291\u001b[0m \u001b[32m━━━━━━━━━━━━━━━━━━━━\u001b[0m\u001b[37m\u001b[0m \u001b[1m1s\u001b[0m 4ms/step - accuracy: 0.9891 - loss: 0.0381 - val_accuracy: 0.9691 - val_loss: 0.4227\n",
      "Epoch 11/25\n",
      "\u001b[1m291/291\u001b[0m \u001b[32m━━━━━━━━━━━━━━━━━━━━\u001b[0m\u001b[37m\u001b[0m \u001b[1m1s\u001b[0m 4ms/step - accuracy: 0.9914 - loss: 0.0309 - val_accuracy: 0.9691 - val_loss: 0.3435\n",
      "Epoch 12/25\n",
      "\u001b[1m291/291\u001b[0m \u001b[32m━━━━━━━━━━━━━━━━━━━━\u001b[0m\u001b[37m\u001b[0m \u001b[1m1s\u001b[0m 4ms/step - accuracy: 0.9889 - loss: 0.0348 - val_accuracy: 0.9691 - val_loss: 0.5377\n",
      "Epoch 13/25\n",
      "\u001b[1m291/291\u001b[0m \u001b[32m━━━━━━━━━━━━━━━━━━━━\u001b[0m\u001b[37m\u001b[0m \u001b[1m1s\u001b[0m 4ms/step - accuracy: 0.9918 - loss: 0.0308 - val_accuracy: 0.9691 - val_loss: 0.2702\n",
      "Epoch 14/25\n",
      "\u001b[1m291/291\u001b[0m \u001b[32m━━━━━━━━━━━━━━━━━━━━\u001b[0m\u001b[37m\u001b[0m \u001b[1m1s\u001b[0m 4ms/step - accuracy: 0.9861 - loss: 0.0673 - val_accuracy: 0.9691 - val_loss: 0.2036\n",
      "Epoch 15/25\n",
      "\u001b[1m291/291\u001b[0m \u001b[32m━━━━━━━━━━━━━━━━━━━━\u001b[0m\u001b[37m\u001b[0m \u001b[1m1s\u001b[0m 4ms/step - accuracy: 0.9902 - loss: 0.0401 - val_accuracy: 0.9691 - val_loss: 0.2552\n",
      "Epoch 16/25\n",
      "\u001b[1m291/291\u001b[0m \u001b[32m━━━━━━━━━━━━━━━━━━━━\u001b[0m\u001b[37m\u001b[0m \u001b[1m1s\u001b[0m 4ms/step - accuracy: 0.9911 - loss: 0.0296 - val_accuracy: 0.9691 - val_loss: 0.3767\n",
      "Epoch 17/25\n",
      "\u001b[1m291/291\u001b[0m \u001b[32m━━━━━━━━━━━━━━━━━━━━\u001b[0m\u001b[37m\u001b[0m \u001b[1m1s\u001b[0m 5ms/step - accuracy: 0.9926 - loss: 0.0292 - val_accuracy: 0.9691 - val_loss: 0.3626\n",
      "Epoch 18/25\n",
      "\u001b[1m291/291\u001b[0m \u001b[32m━━━━━━━━━━━━━━━━━━━━\u001b[0m\u001b[37m\u001b[0m \u001b[1m3s\u001b[0m 5ms/step - accuracy: 0.9916 - loss: 0.0272 - val_accuracy: 0.9691 - val_loss: 0.3181\n",
      "Epoch 19/25\n",
      "\u001b[1m291/291\u001b[0m \u001b[32m━━━━━━━━━━━━━━━━━━━━\u001b[0m\u001b[37m\u001b[0m \u001b[1m2s\u001b[0m 4ms/step - accuracy: 0.9933 - loss: 0.0254 - val_accuracy: 0.9691 - val_loss: 0.4171\n",
      "Epoch 20/25\n",
      "\u001b[1m291/291\u001b[0m \u001b[32m━━━━━━━━━━━━━━━━━━━━\u001b[0m\u001b[37m\u001b[0m \u001b[1m1s\u001b[0m 4ms/step - accuracy: 0.9926 - loss: 0.0241 - val_accuracy: 0.9691 - val_loss: 0.3891\n",
      "Epoch 21/25\n",
      "\u001b[1m291/291\u001b[0m \u001b[32m━━━━━━━━━━━━━━━━━━━━\u001b[0m\u001b[37m\u001b[0m \u001b[1m1s\u001b[0m 4ms/step - accuracy: 0.9940 - loss: 0.0184 - val_accuracy: 0.9691 - val_loss: 0.2894\n",
      "Epoch 22/25\n",
      "\u001b[1m291/291\u001b[0m \u001b[32m━━━━━━━━━━━━━━━━━━━━\u001b[0m\u001b[37m\u001b[0m \u001b[1m1s\u001b[0m 4ms/step - accuracy: 0.9945 - loss: 0.0188 - val_accuracy: 0.9691 - val_loss: 0.4227\n",
      "Epoch 23/25\n",
      "\u001b[1m291/291\u001b[0m \u001b[32m━━━━━━━━━━━━━━━━━━━━\u001b[0m\u001b[37m\u001b[0m \u001b[1m1s\u001b[0m 4ms/step - accuracy: 0.9945 - loss: 0.0238 - val_accuracy: 0.9691 - val_loss: 0.2633\n",
      "Epoch 24/25\n",
      "\u001b[1m291/291\u001b[0m \u001b[32m━━━━━━━━━━━━━━━━━━━━\u001b[0m\u001b[37m\u001b[0m \u001b[1m1s\u001b[0m 4ms/step - accuracy: 0.9943 - loss: 0.0196 - val_accuracy: 0.9691 - val_loss: 0.3522\n",
      "Epoch 25/25\n",
      "\u001b[1m291/291\u001b[0m \u001b[32m━━━━━━━━━━━━━━━━━━━━\u001b[0m\u001b[37m\u001b[0m \u001b[1m1s\u001b[0m 4ms/step - accuracy: 0.9956 - loss: 0.0157 - val_accuracy: 0.9691 - val_loss: 0.3102\n"
     ]
    }
   ],
   "source": [
    "%time\n",
    "# Define the LSTM model for classification\n",
    "model = Sequential([\n",
    "    LSTM(60, activation='relu', input_shape=(X_train.shape[1], X_train.shape[2])),\n",
    "    Dense(4, activation='softmax')  # 4 output units for 4 classes\n",
    "])\n",
    "\n",
    "# Compile the model with categorical crossentropy loss and accuracy metric\n",
    "model.compile(optimizer='adam', loss='categorical_crossentropy', metrics=['accuracy'])\n",
    "\n",
    "# Train the model\n",
    "history = model.fit(X_train, y_train, epochs=25, batch_size=25, validation_split=0.1, verbose=1)"
   ]
  },
  {
   "cell_type": "markdown",
   "id": "93c5ba6b",
   "metadata": {},
   "source": [
    "### Evaluating on the test set"
   ]
  },
  {
   "cell_type": "code",
   "execution_count": 39,
   "id": "2f8e930b",
   "metadata": {},
   "outputs": [
    {
     "name": "stdout",
     "output_type": "stream",
     "text": [
      "\u001b[1m64/64\u001b[0m \u001b[32m━━━━━━━━━━━━━━━━━━━━\u001b[0m\u001b[37m\u001b[0m \u001b[1m0s\u001b[0m 2ms/step - accuracy: 0.6163 - loss: 1.8401 \n",
      "Test Accuracy: 86.83%\n"
     ]
    }
   ],
   "source": [
    "test_loss, test_accuracy = model.evaluate(X_test, y_test)\n",
    "print(f\"Test Accuracy: {test_accuracy * 100:.2f}%\")"
   ]
  },
  {
   "cell_type": "code",
   "execution_count": 40,
   "id": "2928cdca",
   "metadata": {},
   "outputs": [
    {
     "name": "stdout",
     "output_type": "stream",
     "text": [
      "\u001b[1m64/64\u001b[0m \u001b[32m━━━━━━━━━━━━━━━━━━━━\u001b[0m\u001b[37m\u001b[0m \u001b[1m0s\u001b[0m 3ms/step\n"
     ]
    }
   ],
   "source": [
    "# Predict and convert probabilities to class labels\n",
    "y_pred_proba = model.predict(X_test)\n",
    "y_pred_labels = np.argmax(y_pred_proba, axis=1)\n",
    "\n",
    "#Convert true labels from one-hot encoding to class labels for comparison\n",
    "y_true_labels = np.argmax(y_test, axis=1)\n"
   ]
  },
  {
   "cell_type": "code",
   "execution_count": 41,
   "id": "c3cee3f2",
   "metadata": {},
   "outputs": [
    {
     "name": "stdout",
     "output_type": "stream",
     "text": [
      "              precision    recall  f1-score   support\n",
      "\n",
      "           0       0.92      1.00      0.96      1751\n",
      "           1       0.00      0.00      0.00         0\n",
      "           2       0.11      0.02      0.04        93\n",
      "           3       0.02      0.01      0.01       176\n",
      "\n",
      "    accuracy                           0.87      2020\n",
      "   macro avg       0.26      0.26      0.25      2020\n",
      "weighted avg       0.81      0.87      0.83      2020\n",
      "\n",
      "[[1750    0    0    1]\n",
      " [   0    0    0    0]\n",
      " [   0    0    2   91]\n",
      " [ 149    9   16    2]]\n"
     ]
    }
   ],
   "source": [
    "# Analyzing the results using confusion matrix, classification report\n",
    "from sklearn.metrics import classification_report, confusion_matrix\n",
    "print(classification_report(y_true_labels, y_pred_labels))\n",
    "print(confusion_matrix(y_true_labels, y_pred_labels))"
   ]
  },
  {
   "cell_type": "code",
   "execution_count": 42,
   "id": "ed734552",
   "metadata": {},
   "outputs": [
    {
     "data": {
      "image/png": "[encoded data removed]",
      "text/plain": [
       "<Figure size 640x480 with 1 Axes>"
      ]
     },
     "metadata": {},
     "output_type": "display_data"
    }
   ],
   "source": [
    "import matplotlib.pyplot as plt\n",
    "\n",
    "plt.plot(history.history['loss'], label='Training Loss')\n",
    "plt.plot(history.history['val_loss'], label='Validation Loss')\n",
    "plt.title('Training and Validation Loss Over Epochs')\n",
    "plt.xlabel('Epochs')\n",
    "plt.ylabel('Loss')\n",
    "plt.legend()\n",
    "plt.show()"
   ]
  },
  {
   "cell_type": "code",
   "execution_count": 43,
   "id": "7d959644",
   "metadata": {},
   "outputs": [
    {
     "data": {
      "image/png": "[encoded data removed]",
      "text/plain": [
       "<Figure size 640x480 with 2 Axes>"
      ]
     },
     "metadata": {},
     "output_type": "display_data"
    }
   ],
   "source": [
    "from sklearn.metrics import confusion_matrix\n",
    "import seaborn as sns\n",
    "\n",
    "conf_matrix = confusion_matrix(y_true_labels, y_pred_labels)\n",
    "sns.heatmap(conf_matrix, annot=True, fmt='d', cmap='Blues', xticklabels=[0, 1, 2, 3], yticklabels=[0, 1, 2, 3])\n",
    "plt.title('Confusion Matrix')\n",
    "plt.xlabel('Predicted Labels')\n",
    "plt.ylabel('True Labels')\n",
    "plt.show()"
   ]
  },
  {
   "cell_type": "code",
   "execution_count": 25,
   "id": "5c2ad2e6",
   "metadata": {},
   "outputs": [
    {
     "name": "stdout",
     "output_type": "stream",
     "text": [
      "              precision    recall  f1-score   support\n",
      "\n",
      "           0       0.93      1.00      0.96      1751\n",
      "           1       0.00      0.00      0.00         0\n",
      "           2       0.55      0.06      0.12        93\n",
      "           3       0.11      0.06      0.08       180\n",
      "\n",
      "    accuracy                           0.87      2024\n",
      "   macro avg       0.40      0.28      0.29      2024\n",
      "weighted avg       0.84      0.87      0.85      2024\n",
      "\n"
     ]
    }
   ],
   "source": [
    "from sklearn.metrics import classification_report\n",
    "print(classification_report(y_true_labels, y_pred_labels))"
   ]
  },
  {
   "cell_type": "code",
   "execution_count": null,
   "id": "45aaaa5e",
   "metadata": {},
   "outputs": [],
   "source": []
  }
 ],
 "metadata": {
  "kernelspec": {
   "display_name": "Python (CA1-2sem)",
   "language": "python",
   "name": "ca1-2sem"
  },
  "language_info": {
   "codemirror_mode": {
    "name": "ipython",
    "version": 3
   },
   "file_extension": ".py",
   "mimetype": "text/x-python",
   "name": "python",
   "nbconvert_exporter": "python",
   "pygments_lexer": "ipython3",
   "version": "3.11.6"
  }
 },
 "nbformat": 4,
 "nbformat_minor": 5
}
