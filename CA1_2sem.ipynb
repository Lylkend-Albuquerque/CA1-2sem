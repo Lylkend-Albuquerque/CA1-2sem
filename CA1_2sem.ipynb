{
 "cells": [
  {
   "cell_type": "raw",
   "id": "ff291f9a",
   "metadata": {},
   "source": [
    "Note to mySelf:\n",
    "on the terminal\n",
    "-start-dfs.sh\n",
    "-start-yarn.sh\n",
    "-pyspark\n",
    "\n",
    "-source ~/CA1-2sem/bin/activate (to install packges inside of my enviroment)"
   ]
  },
  {
   "cell_type": "code",
   "execution_count": 1,
   "id": "89448fce",
   "metadata": {},
   "outputs": [],
   "source": [
    "# Due the different version of python can be found and each machine or libriries \n",
    "# I just decided to use this library to avoid distraction and anoing warnigs\n",
    "import warnings\n",
    "warnings.filterwarnings(\"ignore\")"
   ]
  },
  {
   "cell_type": "code",
   "execution_count": 2,
   "id": "3e3ba179",
   "metadata": {
    "scrolled": true
   },
   "outputs": [],
   "source": [
    "import pandas as pd\n",
    "import numpy as np\n",
    "import tensorflow as tf\n",
    "from sklearn.preprocessing import MinMaxScaler\n",
    "from sklearn.model_selection import train_test_split\n",
    "from sklearn.metrics import mean_squared_error\n",
    "from math import sqrt"
   ]
  },
  {
   "cell_type": "markdown",
   "id": "dfab47dd",
   "metadata": {},
   "source": [
    "## Licence of use"
   ]
  },
  {
   "cell_type": "markdown",
   "id": "49e6416f",
   "metadata": {},
   "source": [
    "Working with Room Occupancy Estimation: That dataset was collected from UCI Machine Learning Repository -https://archive.ics.uci.edu/dataset/864/room+occupancy+estimation\n",
    "licence by Creative Commons Attribution 4.0 (CC BY 4.0) https://creativecommons.org/licenses/by/4.0/"
   ]
  },
  {
   "cell_type": "markdown",
   "id": "8e68325e",
   "metadata": {},
   "source": [
    "## About the dataset\n",
    "\n",
    "    -> The experimental testbed for occupancy estimation was deployed in a 6m x 4.6m room. The setup consisted of 7 sensor nodes and one edge node in a star configuration with the sensor nodes transmitting data to the edge every 30s using wireless transceivers.\n",
    "    -> The data was collected for a period of 4 days in a controlled manner with the occupancy in the room varying between 0 and 3 people. The ground truth of the occupancy count in the room was noted manually."
   ]
  },
  {
   "cell_type": "code",
   "execution_count": 3,
   "id": "943c23a9",
   "metadata": {},
   "outputs": [
    {
     "name": "stderr",
     "output_type": "stream",
     "text": [
      "24/03/27 15:07:05 WARN SparkSession: Using an existing Spark session; only runtime SQL configurations will take effect.\n"
     ]
    }
   ],
   "source": [
    "from pyspark.sql import SparkSession\n",
    "\n",
    "spark = SparkSession.builder \\\n",
    "    .master(\"local\") \\\n",
    "    .appName(\"Occupancy Estimation\") \\\n",
    "    .getOrCreate()"
   ]
  },
  {
   "cell_type": "code",
   "execution_count": 4,
   "id": "14a94b2a",
   "metadata": {},
   "outputs": [],
   "source": [
    "# Loading dataset from HDFS - Biga data Tecnology to storage\n",
    "df = spark.read.csv(\"hdfs:///user1/Occupancy_Estimation.csv\", header=True, inferSchema=True)"
   ]
  },
  {
   "cell_type": "markdown",
   "id": "e69fe162",
   "metadata": {},
   "source": [
    "# Data Exploration\n",
    "    - as EDA"
   ]
  },
  {
   "cell_type": "code",
   "execution_count": null,
   "id": "345cc215",
   "metadata": {},
   "outputs": [],
   "source": [
    "# Print the schema to understand the data types\n",
    "df.printSchema()\n",
    "\n",
    "# Summary statistics for numerical columns\n",
    "df.describe().show()"
   ]
  },
  {
   "cell_type": "markdown",
   "id": "374facd0",
   "metadata": {},
   "source": [
    "# Preprocessing the dataset with PySpark \n",
    "    \n",
    "     - Checking for Missing Values\n",
    "     - Cleaning features that won't be used by the LSTM --> Feature Engineering\n",
    "     - Converting to a Pandas Df to preprocecing\n",
    "     - Normalization"
   ]
  },
  {
   "cell_type": "code",
   "execution_count": null,
   "id": "2d3309ac",
   "metadata": {},
   "outputs": [],
   "source": [
    "from pyspark.sql.functions import col, count\n",
    "\n",
    "# Count the total number of entries\n",
    "total_entries = df.count()\n",
    "\n",
    "# Count the number of non-null (non-missing) values in each column\n",
    "non_missing_counts = df.agg(*(count(c).alias(c) for c in df.columns))\n",
    "\n",
    "# To view the results\n",
    "non_missing_counts.show()\n",
    "\n",
    "# Calculating missing values by subtracting non-missing from total entries\n",
    "# This involves converting the DataFrame to a Pandas DataFrame for easier manipulation\n",
    "non_missing_counts_pandas = non_missing_counts.toPandas()\n",
    "missing_values = total_entries - non_missing_counts_pandas.iloc[0]\n",
    "print(\"Missing values in each column:\\n\", missing_values)\n"
   ]
  },
  {
   "cell_type": "markdown",
   "id": "24a90442",
   "metadata": {},
   "source": [
    "# Features and Target\n",
    "\n",
    " - Target is predict Room Ocuppancy which is(Room_Occupancy_Count)\n",
    " - All the sensors readings would be the features to be analysed\n",
    " - Let's perform a better Feature Engineering - separating onto differents df"
   ]
  },
  {
   "cell_type": "code",
   "execution_count": 5,
   "id": "db84bb1c",
   "metadata": {},
   "outputs": [],
   "source": [
    "# Separating features and target variable - This step here it's just to don't go and just drop features.\n",
    "feature_columns = [col for col in df.columns if col not in {'Date', 'Time', 'Room_Occupancy_Count'}]\n",
    "features_df = df.select(*feature_columns)\n",
    "target_df = df.select('Room_Occupancy_Count')"
   ]
  },
  {
   "cell_type": "code",
   "execution_count": 6,
   "id": "7e10fb7d",
   "metadata": {},
   "outputs": [],
   "source": [
    "# features_df and target_df are a Spark DataFrames also, convert those to Pandas for normalization(Features)\n",
    "pandas_features_df = features_df.toPandas()\n",
    "pandas_target_df = target_df.toPandas()"
   ]
  },
  {
   "cell_type": "code",
   "execution_count": 7,
   "id": "3a866e46",
   "metadata": {},
   "outputs": [],
   "source": [
    "# Normalizing the data\n",
    "from sklearn.preprocessing import MinMaxScaler\n",
    "\n",
    "# Initialize the scaler for features\n",
    "scaler_features = MinMaxScaler(feature_range=(0, 1))\n",
    "# Fit and transform the features\n",
    "pandas_features_df_scaled = pd.DataFrame(scaler_features.fit_transform(pandas_features_df),\n",
    "                                         columns=pandas_features_df.columns)\n",
    "\n",
    "scaler_target = MinMaxScaler(feature_range=(0, 1))\n",
    "# As the target Df is a single column and needs to be reshaped for scaling\n",
    "pandas_target_df_scaled = scaler_target.fit_transform(pandas_target_df.values.reshape(-1, 1))\n",
    "# Flatten back to a series maintaining the original index\n",
    "pandas_target_df_scaled = pd.Series(pandas_target_df_scaled.flatten(), index=pandas_target_df.index)\n",
    "\n",
    "# pandas_features_df_scaled -> Normalized features\n",
    "# pandas_target_df_scaled -> Normalized target \n"
   ]
  },
  {
   "cell_type": "markdown",
   "id": "fe027132",
   "metadata": {},
   "source": [
    "Inverse Transformation will be needed because as I normalized the target variable, keep the scaler_target object so it will needs later  to use scaler_target.inverse_transform() on top of predictions, in order to interpret the results in the original scale of the target variable."
   ]
  },
  {
   "cell_type": "markdown",
   "id": "b6e5707e",
   "metadata": {},
   "source": [
    "# Autocorrelation and time steps\n",
    "\n",
    "    Each observation in this dataset was measured every 30 seconds, in order to capture trends or patterns\n",
    "    within a 30-minute window, has to follow the formula\n",
    "### (30 × 60) ÷ 30 = <code>60 time steps.</code> (reading is 30min times 60 seconds divided by 30 seconds)"
   ]
  },
  {
   "cell_type": "code",
   "execution_count": null,
   "id": "f939fc84",
   "metadata": {},
   "outputs": [],
   "source": [
    "# To understand whcih steps would be better to the model with that data set.\n",
    "\n",
    "from statsmodels.graphics.tsaplots import plot_acf\n",
    "import matplotlib.pyplot as plt\n",
    "\n",
    "# `pandas_target_df` is a Pandas df before normalization of target variable\n",
    "plot_acf(pandas_target_df, lags=60)\n",
    "plt.show()"
   ]
  },
  {
   "cell_type": "markdown",
   "id": "303c0f9e",
   "metadata": {},
   "source": [
    "## Preparation to aproach  a LSTM model\n",
    "\n",
    "    Transforming feature and target data into sequences as we have time series data.\n",
    "    This process involves using all data available to create sequences that LSTM model can learn from it."
   ]
  },
  {
   "cell_type": "code",
   "execution_count": 8,
   "id": "7053242a",
   "metadata": {},
   "outputs": [],
   "source": [
    "#function for creating sequences\n",
    "\n",
    "def create_sequences(X, y, time_steps=1):\n",
    "    Xs, ys = [], []\n",
    "    for i in range(len(X) - time_steps):\n",
    "        Xs.append(X.iloc[i:(i + time_steps)].values)\n",
    "        ys.append(y.iloc[i + time_steps])\n",
    "    return np.array(Xs), np.array(ys)\n",
    "\n",
    "# Let's call the function \n",
    "# pandas_features_df_scaled is the features DataFrame after scaling\n",
    "# and pandas_target_df (or pandas_target_df_scaled) is target variable\n",
    "\n",
    "time_steps = 60  # Adjusted based on the temporal dependency analysis which it's seem previously\n",
    "\n",
    "target_df_used_for_sequences = pandas_target_df_scaled\n",
    "X, y = create_sequences(pandas_features_df_scaled, target_df_used_for_sequences, time_steps=time_steps)\n"
   ]
  },
  {
   "cell_type": "code",
   "execution_count": 11,
   "id": "4ca5e79c",
   "metadata": {},
   "outputs": [],
   "source": [
    "# Splitting time series data for LSTM models, ensuring the split preserves the sequence's temporal order\n",
    "# Determine the split point for an 80/20 train-test split\n",
    "\n",
    "# Determine the split point for an 80/20 train-test split\n",
    "split_point = int(len(X) * 0.8)\n",
    "\n",
    "# Splitting the sequenced data\n",
    "X_train, X_test = X[:split_point], X[split_point:]\n",
    "y_train, y_test = y[:split_point], y[split_point:]"
   ]
  },
  {
   "cell_type": "code",
   "execution_count": 12,
   "id": "cbbcb91b",
   "metadata": {},
   "outputs": [
    {
     "name": "stdout",
     "output_type": "stream",
     "text": [
      "(8055, 60, 16) (8055,) (2014, 60, 16) (2014,)\n"
     ]
    }
   ],
   "source": [
    "print(X_train.shape, y_train.shape, X_test.shape, y_test.shape)"
   ]
  },
  {
   "cell_type": "markdown",
   "id": "1dbe58a5",
   "metadata": {},
   "source": [
    "# LSTM model architecture"
   ]
  },
  {
   "cell_type": "code",
   "execution_count": 13,
   "id": "003108ca",
   "metadata": {},
   "outputs": [],
   "source": [
    "from tensorflow.keras.models import Sequential\n",
    "from tensorflow.keras.layers import LSTM, Dense\n",
    "\n",
    "# Define the LSTM model\n",
    "model = Sequential()\n",
    "model.add(LSTM(units=50, activation='relu', input_shape=(X_train.shape[1], X_train.shape[2])))\n",
    "model.add(Dense(1))  # Assuming a single continuous target variable\n",
    "model.compile(optimizer='adam', loss='mean_squared_error')\n"
   ]
  },
  {
   "cell_type": "raw",
   "id": "e882fcc3",
   "metadata": {},
   "source": [
    "Train the Model"
   ]
  },
  {
   "cell_type": "code",
   "execution_count": 14,
   "id": "a84adb67",
   "metadata": {},
   "outputs": [
    {
     "name": "stdout",
     "output_type": "stream",
     "text": [
      "Epoch 1/20\n"
     ]
    },
    {
     "name": "stderr",
     "output_type": "stream",
     "text": [
      "2024-03-27 15:36:26.427727: W external/local_tsl/tsl/framework/cpu_allocator_impl.cc:83] Allocation of 27836160 exceeds 10% of free system memory.\n"
     ]
    },
    {
     "name": "stdout",
     "output_type": "stream",
     "text": [
      "\u001b[1m227/227\u001b[0m \u001b[32m━━━━━━━━━━━━━━━━━━━━\u001b[0m\u001b[37m\u001b[0m \u001b[1m2s\u001b[0m 8ms/step - loss: 0.0098 - val_loss: 0.0493\n",
      "Epoch 2/20\n",
      "\u001b[1m227/227\u001b[0m \u001b[32m━━━━━━━━━━━━━━━━━━━━\u001b[0m\u001b[37m\u001b[0m \u001b[1m2s\u001b[0m 8ms/step - loss: 0.0024 - val_loss: 0.0508\n",
      "Epoch 3/20\n",
      "\u001b[1m227/227\u001b[0m \u001b[32m━━━━━━━━━━━━━━━━━━━━\u001b[0m\u001b[37m\u001b[0m \u001b[1m2s\u001b[0m 7ms/step - loss: 0.0012 - val_loss: 0.0514\n",
      "Epoch 4/20\n",
      "\u001b[1m227/227\u001b[0m \u001b[32m━━━━━━━━━━━━━━━━━━━━\u001b[0m\u001b[37m\u001b[0m \u001b[1m3s\u001b[0m 7ms/step - loss: 9.0667e-04 - val_loss: 0.0496\n",
      "Epoch 5/20\n",
      "\u001b[1m227/227\u001b[0m \u001b[32m━━━━━━━━━━━━━━━━━━━━\u001b[0m\u001b[37m\u001b[0m \u001b[1m3s\u001b[0m 7ms/step - loss: 0.0010 - val_loss: 0.0499\n",
      "Epoch 6/20\n",
      "\u001b[1m227/227\u001b[0m \u001b[32m━━━━━━━━━━━━━━━━━━━━\u001b[0m\u001b[37m\u001b[0m \u001b[1m3s\u001b[0m 7ms/step - loss: 6.4863e-04 - val_loss: 0.0507\n",
      "Epoch 7/20\n",
      "\u001b[1m227/227\u001b[0m \u001b[32m━━━━━━━━━━━━━━━━━━━━\u001b[0m\u001b[37m\u001b[0m \u001b[1m3s\u001b[0m 7ms/step - loss: 7.1496e-04 - val_loss: 0.0509\n",
      "Epoch 8/20\n",
      "\u001b[1m227/227\u001b[0m \u001b[32m━━━━━━━━━━━━━━━━━━━━\u001b[0m\u001b[37m\u001b[0m \u001b[1m3s\u001b[0m 7ms/step - loss: 6.6872e-04 - val_loss: 0.0493\n",
      "Epoch 9/20\n",
      "\u001b[1m227/227\u001b[0m \u001b[32m━━━━━━━━━━━━━━━━━━━━\u001b[0m\u001b[37m\u001b[0m \u001b[1m2s\u001b[0m 8ms/step - loss: 6.3574e-04 - val_loss: 0.0522\n",
      "Epoch 10/20\n",
      "\u001b[1m227/227\u001b[0m \u001b[32m━━━━━━━━━━━━━━━━━━━━\u001b[0m\u001b[37m\u001b[0m \u001b[1m2s\u001b[0m 7ms/step - loss: 6.6227e-04 - val_loss: 0.0544\n",
      "Epoch 11/20\n",
      "\u001b[1m227/227\u001b[0m \u001b[32m━━━━━━━━━━━━━━━━━━━━\u001b[0m\u001b[37m\u001b[0m \u001b[1m2s\u001b[0m 9ms/step - loss: 6.2019e-04 - val_loss: 0.0548\n",
      "Epoch 12/20\n",
      "\u001b[1m227/227\u001b[0m \u001b[32m━━━━━━━━━━━━━━━━━━━━\u001b[0m\u001b[37m\u001b[0m \u001b[1m2s\u001b[0m 7ms/step - loss: 8.0593e-04 - val_loss: 0.0513\n",
      "Epoch 13/20\n",
      "\u001b[1m227/227\u001b[0m \u001b[32m━━━━━━━━━━━━━━━━━━━━\u001b[0m\u001b[37m\u001b[0m \u001b[1m2s\u001b[0m 7ms/step - loss: 8.1057e-04 - val_loss: 0.0559\n",
      "Epoch 14/20\n",
      "\u001b[1m227/227\u001b[0m \u001b[32m━━━━━━━━━━━━━━━━━━━━\u001b[0m\u001b[37m\u001b[0m \u001b[1m3s\u001b[0m 7ms/step - loss: 8.9595e-04 - val_loss: 0.0558\n",
      "Epoch 15/20\n",
      "\u001b[1m227/227\u001b[0m \u001b[32m━━━━━━━━━━━━━━━━━━━━\u001b[0m\u001b[37m\u001b[0m \u001b[1m2s\u001b[0m 7ms/step - loss: 7.8242e-04 - val_loss: 0.0522\n",
      "Epoch 16/20\n",
      "\u001b[1m227/227\u001b[0m \u001b[32m━━━━━━━━━━━━━━━━━━━━\u001b[0m\u001b[37m\u001b[0m \u001b[1m2s\u001b[0m 7ms/step - loss: 5.1806e-04 - val_loss: 0.0566\n",
      "Epoch 17/20\n",
      "\u001b[1m227/227\u001b[0m \u001b[32m━━━━━━━━━━━━━━━━━━━━\u001b[0m\u001b[37m\u001b[0m \u001b[1m2s\u001b[0m 7ms/step - loss: 8.1400e-04 - val_loss: 0.0527\n",
      "Epoch 18/20\n",
      "\u001b[1m227/227\u001b[0m \u001b[32m━━━━━━━━━━━━━━━━━━━━\u001b[0m\u001b[37m\u001b[0m \u001b[1m2s\u001b[0m 7ms/step - loss: 5.6800e-04 - val_loss: 0.0552\n",
      "Epoch 19/20\n",
      "\u001b[1m227/227\u001b[0m \u001b[32m━━━━━━━━━━━━━━━━━━━━\u001b[0m\u001b[37m\u001b[0m \u001b[1m3s\u001b[0m 7ms/step - loss: 7.8415e-04 - val_loss: 0.0520\n",
      "Epoch 20/20\n",
      "\u001b[1m227/227\u001b[0m \u001b[32m━━━━━━━━━━━━━━━━━━━━\u001b[0m\u001b[37m\u001b[0m \u001b[1m3s\u001b[0m 8ms/step - loss: 0.0011 - val_loss: 0.0570\n"
     ]
    }
   ],
   "source": [
    "history = model.fit(X_train, y_train, epochs=20, batch_size=32, validation_split=0.1, verbose=1)"
   ]
  },
  {
   "cell_type": "code",
   "execution_count": 16,
   "id": "2f8e930b",
   "metadata": {},
   "outputs": [
    {
     "name": "stdout",
     "output_type": "stream",
     "text": [
      "\u001b[1m63/63\u001b[0m \u001b[32m━━━━━━━━━━━━━━━━━━━━\u001b[0m\u001b[37m\u001b[0m \u001b[1m0s\u001b[0m 2ms/step\n",
      "Test MSE: 0.0674122672978443\n",
      "Test RMSE: 0.259638724572904\n"
     ]
    }
   ],
   "source": [
    "y_pred = model.predict(X_test)\n",
    "mse = mean_squared_error(y_test, y_pred)\n",
    "rmse = sqrt(mse)\n",
    "print(f\"Test MSE: {mse}\")\n",
    "print(f\"Test RMSE: {rmse}\")"
   ]
  },
  {
   "cell_type": "code",
   "execution_count": 17,
   "id": "ed734552",
   "metadata": {},
   "outputs": [
    {
     "data": {
      "image/png": "[encoded data removed]",
      "text/plain": [
       "<Figure size 1000x600 with 1 Axes>"
      ]
     },
     "metadata": {},
     "output_type": "display_data"
    }
   ],
   "source": [
    "import matplotlib.pyplot as plt\n",
    "\n",
    "# Assuming y_test and y_pred are both in the original scale\n",
    "plt.figure(figsize=(10, 6))\n",
    "plt.plot(y_test, label='Actual')\n",
    "plt.plot(y_pred, label='Predicted')\n",
    "plt.title('LSTM Model Predictions vs. Actual')\n",
    "plt.xlabel('Time Steps')\n",
    "plt.ylabel('Target Variable')\n",
    "plt.legend()\n",
    "plt.show()"
   ]
  },
  {
   "cell_type": "code",
   "execution_count": 18,
   "id": "65a16f45",
   "metadata": {},
   "outputs": [],
   "source": [
    "# This step was mentioned before in order to compare the actual results with the LSTM predctions.\n",
    "y_test_original = scaler_target.inverse_transform(y_test.reshape(-1, 1))\n",
    "y_pred_original = scaler_target.inverse_transform(y_pred)"
   ]
  },
  {
   "cell_type": "code",
   "execution_count": 19,
   "id": "7d959644",
   "metadata": {},
   "outputs": [
    {
     "data": {
      "image/png": "[encoded data removed]",
      "text/plain": [
       "<Figure size 1000x600 with 1 Axes>"
      ]
     },
     "metadata": {},
     "output_type": "display_data"
    }
   ],
   "source": [
    "import matplotlib.pyplot as plt\n",
    "\n",
    "# Double check after trasformation\n",
    "plt.figure(figsize=(10, 6))\n",
    "plt.plot(y_test_original, label='Actual')\n",
    "plt.plot(y_pred_original, label='Predicted')\n",
    "plt.title('LSTM Model Predictions vs. Actual after the Inverse Trasformation')\n",
    "plt.xlabel('Time Steps')\n",
    "plt.ylabel('Target Variable')\n",
    "plt.legend()\n",
    "plt.show()"
   ]
  },
  {
   "cell_type": "code",
   "execution_count": null,
   "id": "5c2ad2e6",
   "metadata": {},
   "outputs": [],
   "source": []
  }
 ],
 "metadata": {
  "kernelspec": {
   "display_name": "Python (CA1-2sem)",
   "language": "python",
   "name": "ca1-2sem"
  },
  "language_info": {
   "codemirror_mode": {
    "name": "ipython",
    "version": 3
   },
   "file_extension": ".py",
   "mimetype": "text/x-python",
   "name": "python",
   "nbconvert_exporter": "python",
   "pygments_lexer": "ipython3",
   "version": "3.11.6"
  }
 },
 "nbformat": 4,
 "nbformat_minor": 5
}
