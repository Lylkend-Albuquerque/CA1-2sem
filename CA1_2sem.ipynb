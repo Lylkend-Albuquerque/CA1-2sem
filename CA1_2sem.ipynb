{
 "cells": [
  {
   "cell_type": "markdown",
   "id": "037217cb",
   "metadata": {},
   "source": [
    "# Predictive Analytics for Energy Efficiency Integrating LSTM and Apache Spark for Occupancy Estimation"
   ]
  },
  {
   "cell_type": "code",
   "execution_count": 1,
   "id": "89448fce",
   "metadata": {},
   "outputs": [],
   "source": [
    "# Due the different version of python can be found and each machine or libriries \n",
    "# I just decided to use this library to avoid distraction and anoing warnigs\n",
    "import warnings\n",
    "warnings.filterwarnings(\"ignore\")"
   ]
  },
  {
   "cell_type": "code",
   "execution_count": 2,
   "id": "3e3ba179",
   "metadata": {
    "scrolled": true
   },
   "outputs": [],
   "source": [
    "import pandas as pd\n",
    "import numpy as np\n",
    "import tensorflow as tf\n",
    "from sklearn.preprocessing import MinMaxScaler\n",
    "from tensorflow.keras.models import Sequential\n",
    "from tensorflow.keras.layers import LSTM, Dense\n",
    "from tensorflow.keras.optimizers import Adam"
   ]
  },
  {
   "cell_type": "markdown",
   "id": "dfab47dd",
   "metadata": {},
   "source": [
    "## Licence of use"
   ]
  },
  {
   "cell_type": "markdown",
   "id": "49e6416f",
   "metadata": {},
   "source": [
    "Working with Room Occupancy Estimation: That dataset was collected from UCI Machine Learning Repository -https://archive.ics.uci.edu/dataset/864/room+occupancy+estimation\n",
    "licence by Creative Commons Attribution 4.0 (CC BY 4.0) https://creativecommons.org/licenses/by/4.0/"
   ]
  },
  {
   "cell_type": "markdown",
   "id": "8e68325e",
   "metadata": {},
   "source": [
    "## About the dataset\n",
    "\n",
    "    -> The experimental testbed for occupancy estimation was deployed in a 6m x 4.6m room. The setup consisted of 7 sensor nodes and one edge node in a star configuration with the sensor nodes transmitting data to the edge every 30s using wireless transceivers.\n",
    "    -> The data was collected for a period of 4 days in a controlled manner with the occupancy in the room varying between 0 and 3 people. The ground truth of the occupancy count in the room was noted manually."
   ]
  },
  {
   "cell_type": "code",
   "execution_count": 3,
   "id": "943c23a9",
   "metadata": {},
   "outputs": [
    {
     "name": "stderr",
     "output_type": "stream",
     "text": [
      "24/04/06 15:49:35 WARN SparkSession: Using an existing Spark session; only runtime SQL configurations will take effect.\n"
     ]
    }
   ],
   "source": [
    "from pyspark.sql import SparkSession\n",
    "\n",
    "spark = SparkSession.builder \\\n",
    "    .master(\"local\") \\\n",
    "    .appName(\"Occupancy Estimation\") \\\n",
    "    .getOrCreate()"
   ]
  },
  {
   "cell_type": "code",
   "execution_count": 4,
   "id": "14a94b2a",
   "metadata": {},
   "outputs": [],
   "source": [
    "# Loading dataset from HDFS - Biga data Tecnology to storage\n",
    "df = spark.read.csv(\"hdfs:///user1/Occupancy_Estimation.csv\", header=True, inferSchema=True)"
   ]
  },
  {
   "cell_type": "markdown",
   "id": "374facd0",
   "metadata": {},
   "source": [
    "# Preprocessing the dataset with PySpark \n",
    "    \n",
    "     - EDA\n",
    "     - Cleaning features that won't be used by the LSTM --> Feature Engineering\n",
    "     - Converting to a Pandas Df to preprocecing\n",
    "     - Normalization"
   ]
  },
  {
   "cell_type": "code",
   "execution_count": 5,
   "id": "345cc215",
   "metadata": {},
   "outputs": [
    {
     "name": "stdout",
     "output_type": "stream",
     "text": [
      "root\n",
      " |-- Date: string (nullable = true)\n",
      " |-- Time: timestamp (nullable = true)\n",
      " |-- S1_Temp: double (nullable = true)\n",
      " |-- S2_Temp: double (nullable = true)\n",
      " |-- S3_Temp: double (nullable = true)\n",
      " |-- S4_Temp: double (nullable = true)\n",
      " |-- S1_Light: integer (nullable = true)\n",
      " |-- S2_Light: integer (nullable = true)\n",
      " |-- S3_Light: integer (nullable = true)\n",
      " |-- S4_Light: integer (nullable = true)\n",
      " |-- S1_Sound: double (nullable = true)\n",
      " |-- S2_Sound: double (nullable = true)\n",
      " |-- S3_Sound: double (nullable = true)\n",
      " |-- S4_Sound: double (nullable = true)\n",
      " |-- S5_CO2: integer (nullable = true)\n",
      " |-- S5_CO2_Slope: double (nullable = true)\n",
      " |-- S6_PIR: integer (nullable = true)\n",
      " |-- S7_PIR: integer (nullable = true)\n",
      " |-- Room_Occupancy_Count: integer (nullable = true)\n",
      "\n"
     ]
    }
   ],
   "source": [
    "# Print the schema to understand the data types\n",
    "df.printSchema()"
   ]
  },
  {
   "cell_type": "code",
   "execution_count": 6,
   "id": "a850ae69",
   "metadata": {},
   "outputs": [
    {
     "name": "stderr",
     "output_type": "stream",
     "text": [
      "24/04/06 15:49:49 WARN package: Truncated the string representation of a plan since it was too large. This behavior can be adjusted by setting 'spark.sql.debug.maxToStringFields'.\n",
      "                                                                                \r"
     ]
    },
    {
     "data": {
      "text/html": [
       "<div>\n",
       "<style scoped>\n",
       "    .dataframe tbody tr th:only-of-type {\n",
       "        vertical-align: middle;\n",
       "    }\n",
       "\n",
       "    .dataframe tbody tr th {\n",
       "        vertical-align: top;\n",
       "    }\n",
       "\n",
       "    .dataframe thead th {\n",
       "        text-align: right;\n",
       "    }\n",
       "</style>\n",
       "<table border=\"1\" class=\"dataframe\">\n",
       "  <thead>\n",
       "    <tr style=\"text-align: right;\">\n",
       "      <th></th>\n",
       "      <th>summary</th>\n",
       "      <th>Date</th>\n",
       "      <th>S1_Temp</th>\n",
       "      <th>S2_Temp</th>\n",
       "      <th>S3_Temp</th>\n",
       "      <th>S4_Temp</th>\n",
       "      <th>S1_Light</th>\n",
       "      <th>S2_Light</th>\n",
       "      <th>S3_Light</th>\n",
       "      <th>S4_Light</th>\n",
       "      <th>S1_Sound</th>\n",
       "      <th>S2_Sound</th>\n",
       "      <th>S3_Sound</th>\n",
       "      <th>S4_Sound</th>\n",
       "      <th>S5_CO2</th>\n",
       "      <th>S5_CO2_Slope</th>\n",
       "      <th>S6_PIR</th>\n",
       "      <th>S7_PIR</th>\n",
       "      <th>Room_Occupancy_Count</th>\n",
       "    </tr>\n",
       "  </thead>\n",
       "  <tbody>\n",
       "    <tr>\n",
       "      <th>0</th>\n",
       "      <td>count</td>\n",
       "      <td>10129</td>\n",
       "      <td>10129</td>\n",
       "      <td>10129</td>\n",
       "      <td>10129</td>\n",
       "      <td>10129</td>\n",
       "      <td>10129</td>\n",
       "      <td>10129</td>\n",
       "      <td>10129</td>\n",
       "      <td>10129</td>\n",
       "      <td>10129</td>\n",
       "      <td>10129</td>\n",
       "      <td>10129</td>\n",
       "      <td>10129</td>\n",
       "      <td>10129</td>\n",
       "      <td>10129</td>\n",
       "      <td>10129</td>\n",
       "      <td>10129</td>\n",
       "      <td>10129</td>\n",
       "    </tr>\n",
       "    <tr>\n",
       "      <th>1</th>\n",
       "      <td>mean</td>\n",
       "      <td>None</td>\n",
       "      <td>25.454012242078203</td>\n",
       "      <td>25.54605884095266</td>\n",
       "      <td>25.056620594333857</td>\n",
       "      <td>25.754124790207086</td>\n",
       "      <td>25.445058742225292</td>\n",
       "      <td>26.016289860795734</td>\n",
       "      <td>34.24849442195676</td>\n",
       "      <td>13.22025866324415</td>\n",
       "      <td>0.16817751011942533</td>\n",
       "      <td>0.12006614670744918</td>\n",
       "      <td>0.15811926152627273</td>\n",
       "      <td>0.10384045809063676</td>\n",
       "      <td>460.860400829302</td>\n",
       "      <td>-0.00483000068350229</td>\n",
       "      <td>0.09013722973640044</td>\n",
       "      <td>0.07957350182643894</td>\n",
       "      <td>0.3985585941356501</td>\n",
       "    </tr>\n",
       "    <tr>\n",
       "      <th>2</th>\n",
       "      <td>stddev</td>\n",
       "      <td>None</td>\n",
       "      <td>0.351350551388067</td>\n",
       "      <td>0.5863254509673754</td>\n",
       "      <td>0.42728250832189574</td>\n",
       "      <td>0.356434071686561</td>\n",
       "      <td>51.01126404586223</td>\n",
       "      <td>67.30417025816692</td>\n",
       "      <td>58.40074377922952</td>\n",
       "      <td>19.60221922917804</td>\n",
       "      <td>0.3167091032568891</td>\n",
       "      <td>0.266502502233752</td>\n",
       "      <td>0.4136366134889066</td>\n",
       "      <td>0.12068279538984712</td>\n",
       "      <td>199.96493980975043</td>\n",
       "      <td>1.1649895813031426</td>\n",
       "      <td>0.2863924006559917</td>\n",
       "      <td>0.2706451389275408</td>\n",
       "      <td>0.8936330738301977</td>\n",
       "    </tr>\n",
       "    <tr>\n",
       "      <th>3</th>\n",
       "      <td>min</td>\n",
       "      <td>2017/12/22</td>\n",
       "      <td>24.94</td>\n",
       "      <td>24.75</td>\n",
       "      <td>24.44</td>\n",
       "      <td>24.94</td>\n",
       "      <td>0</td>\n",
       "      <td>0</td>\n",
       "      <td>0</td>\n",
       "      <td>0</td>\n",
       "      <td>0.06</td>\n",
       "      <td>0.04</td>\n",
       "      <td>0.04</td>\n",
       "      <td>0.05</td>\n",
       "      <td>345</td>\n",
       "      <td>-6.29615384615</td>\n",
       "      <td>0</td>\n",
       "      <td>0</td>\n",
       "      <td>0</td>\n",
       "    </tr>\n",
       "    <tr>\n",
       "      <th>4</th>\n",
       "      <td>max</td>\n",
       "      <td>2018/01/11</td>\n",
       "      <td>26.38</td>\n",
       "      <td>29.0</td>\n",
       "      <td>26.19</td>\n",
       "      <td>26.56</td>\n",
       "      <td>165</td>\n",
       "      <td>258</td>\n",
       "      <td>280</td>\n",
       "      <td>74</td>\n",
       "      <td>3.88</td>\n",
       "      <td>3.44</td>\n",
       "      <td>3.67</td>\n",
       "      <td>3.4</td>\n",
       "      <td>1270</td>\n",
       "      <td>8.98076923077</td>\n",
       "      <td>1</td>\n",
       "      <td>1</td>\n",
       "      <td>3</td>\n",
       "    </tr>\n",
       "  </tbody>\n",
       "</table>\n",
       "</div>"
      ],
      "text/plain": [
       "  summary        Date             S1_Temp             S2_Temp  \\\n",
       "0   count       10129               10129               10129   \n",
       "1    mean        None  25.454012242078203   25.54605884095266   \n",
       "2  stddev        None   0.351350551388067  0.5863254509673754   \n",
       "3     min  2017/12/22               24.94               24.75   \n",
       "4     max  2018/01/11               26.38                29.0   \n",
       "\n",
       "               S3_Temp             S4_Temp            S1_Light  \\\n",
       "0                10129               10129               10129   \n",
       "1   25.056620594333857  25.754124790207086  25.445058742225292   \n",
       "2  0.42728250832189574   0.356434071686561   51.01126404586223   \n",
       "3                24.44               24.94                   0   \n",
       "4                26.19               26.56                 165   \n",
       "\n",
       "             S2_Light           S3_Light           S4_Light  \\\n",
       "0               10129              10129              10129   \n",
       "1  26.016289860795734  34.24849442195676  13.22025866324415   \n",
       "2   67.30417025816692  58.40074377922952  19.60221922917804   \n",
       "3                   0                  0                  0   \n",
       "4                 258                280                 74   \n",
       "\n",
       "              S1_Sound             S2_Sound             S3_Sound  \\\n",
       "0                10129                10129                10129   \n",
       "1  0.16817751011942533  0.12006614670744918  0.15811926152627273   \n",
       "2   0.3167091032568891    0.266502502233752   0.4136366134889066   \n",
       "3                 0.06                 0.04                 0.04   \n",
       "4                 3.88                 3.44                 3.67   \n",
       "\n",
       "              S4_Sound              S5_CO2          S5_CO2_Slope  \\\n",
       "0                10129               10129                 10129   \n",
       "1  0.10384045809063676    460.860400829302  -0.00483000068350229   \n",
       "2  0.12068279538984712  199.96493980975043    1.1649895813031426   \n",
       "3                 0.05                 345        -6.29615384615   \n",
       "4                  3.4                1270         8.98076923077   \n",
       "\n",
       "                S6_PIR               S7_PIR Room_Occupancy_Count  \n",
       "0                10129                10129                10129  \n",
       "1  0.09013722973640044  0.07957350182643894   0.3985585941356501  \n",
       "2   0.2863924006559917   0.2706451389275408   0.8936330738301977  \n",
       "3                    0                    0                    0  \n",
       "4                    1                    1                    3  "
      ]
     },
     "metadata": {},
     "output_type": "display_data"
    }
   ],
   "source": [
    "from pyspark.sql import SparkSession\n",
    "# Assuming df is your Spark DataFrame\n",
    "\n",
    "# Convert Spark DataFrame summary statistics to a Pandas DataFrame\n",
    "pandas_df_summary = df.describe().toPandas()\n",
    "\n",
    "# Use IPython display for prettier output (ideal for Jupyter notebooks)\n",
    "from IPython.display import display\n",
    "display(pandas_df_summary)\n",
    "\n",
    "# For custom formatting (e.g., setting decimal precision)\n",
    "pandas_df_summary.style.format(\"{:.2f}\");"
   ]
  },
  {
   "cell_type": "code",
   "execution_count": 7,
   "id": "2d3309ac",
   "metadata": {},
   "outputs": [
    {
     "name": "stdout",
     "output_type": "stream",
     "text": [
      "+-----+-----+-------+-------+-------+-------+--------+--------+--------+--------+--------+--------+--------+--------+------+------------+------+------+--------------------+\n",
      "| Date| Time|S1_Temp|S2_Temp|S3_Temp|S4_Temp|S1_Light|S2_Light|S3_Light|S4_Light|S1_Sound|S2_Sound|S3_Sound|S4_Sound|S5_CO2|S5_CO2_Slope|S6_PIR|S7_PIR|Room_Occupancy_Count|\n",
      "+-----+-----+-------+-------+-------+-------+--------+--------+--------+--------+--------+--------+--------+--------+------+------------+------+------+--------------------+\n",
      "|10129|10129|  10129|  10129|  10129|  10129|   10129|   10129|   10129|   10129|   10129|   10129|   10129|   10129| 10129|       10129| 10129| 10129|               10129|\n",
      "+-----+-----+-------+-------+-------+-------+--------+--------+--------+--------+--------+--------+--------+--------+------+------------+------+------+--------------------+\n",
      "\n",
      "Missing values in each column:\n",
      " Date                    0\n",
      "Time                    0\n",
      "S1_Temp                 0\n",
      "S2_Temp                 0\n",
      "S3_Temp                 0\n",
      "S4_Temp                 0\n",
      "S1_Light                0\n",
      "S2_Light                0\n",
      "S3_Light                0\n",
      "S4_Light                0\n",
      "S1_Sound                0\n",
      "S2_Sound                0\n",
      "S3_Sound                0\n",
      "S4_Sound                0\n",
      "S5_CO2                  0\n",
      "S5_CO2_Slope            0\n",
      "S6_PIR                  0\n",
      "S7_PIR                  0\n",
      "Room_Occupancy_Count    0\n",
      "Name: 0, dtype: int64\n"
     ]
    }
   ],
   "source": [
    "from pyspark.sql.functions import col, count\n",
    "\n",
    "# Count the total number of entries\n",
    "total_entries = df.count()\n",
    "\n",
    "# Count the number of non-null (non-missing) values in each column\n",
    "non_missing_counts = df.agg(*(count(c).alias(c) for c in df.columns))\n",
    "\n",
    "# To view the results\n",
    "non_missing_counts.show()\n",
    "\n",
    "# Calculating missing values by subtracting non-missing from total entries\n",
    "# This involves converting the DataFrame to a Pandas DataFrame for easier manipulation\n",
    "non_missing_counts_pandas = non_missing_counts.toPandas()\n",
    "missing_values = total_entries - non_missing_counts_pandas.iloc[0]\n",
    "print(\"Missing values in each column:\\n\", missing_values)\n"
   ]
  },
  {
   "cell_type": "markdown",
   "id": "b6e5707e",
   "metadata": {},
   "source": [
    "## Correlation and time steps\n",
    "\n",
    "    Each observation in this dataset was measured every 30 seconds, in order to capture trends or patterns\n",
    "    within a 30-minute window, has to follow the formula.\n",
    "- ##### (30 × 60) ÷ 30 = <code>60 time steps.</code> (reading is 30min times 60 seconds divided by 30 seconds)"
   ]
  },
  {
   "cell_type": "code",
   "execution_count": 8,
   "id": "7cc813ab",
   "metadata": {},
   "outputs": [],
   "source": [
    "# Converting the Full spark data set to pandas making a copy\n",
    "df_spk = spark.read.csv(\"hdfs:///user1/Occupancy_Estimation.csv\", header=True, inferSchema=True)"
   ]
  },
  {
   "cell_type": "code",
   "execution_count": 10,
   "id": "feac2b6c",
   "metadata": {},
   "outputs": [
    {
     "name": "stdout",
     "output_type": "stream",
     "text": [
      "Correlation between S1_Temp and Room_Occupancy_Count: 0.7008681816112686\n",
      "Correlation between S2_Temp and Room_Occupancy_Count: 0.6712634874724777\n",
      "Correlation between S3_Temp and Room_Occupancy_Count: 0.6520465675239043\n",
      "Correlation between S4_Temp and Room_Occupancy_Count: 0.5265086555834034\n",
      "\u001b[1m\u001b[92mHighest Correlation between S1_Light and Room_Occupancy_Count: 0.8490580523038589\u001b[0m\n",
      "Correlation between S2_Light and Room_Occupancy_Count: 0.788763877382767\n",
      "Correlation between S3_Light and Room_Occupancy_Count: 0.7930813168051819\n",
      "Correlation between S4_Light and Room_Occupancy_Count: 0.3557147404498904\n",
      "Correlation between S1_Sound and Room_Occupancy_Count: 0.5737482916455339\n",
      "Correlation between S2_Sound and Room_Occupancy_Count: 0.5578530448115523\n",
      "Correlation between S3_Sound and Room_Occupancy_Count: 0.5316848559795653\n",
      "Correlation between S4_Sound and Room_Occupancy_Count: 0.46028734590084147\n",
      "Correlation between S5_CO2 and Room_Occupancy_Count: 0.6601444951524897\n",
      "Correlation between S5_CO2_Slope and Room_Occupancy_Count: 0.6011050011063817\n",
      "Correlation between S6_PIR and Room_Occupancy_Count: 0.6331328743786929\n",
      "Correlation between S7_PIR and Room_Occupancy_Count: 0.6951375262804877\n"
     ]
    }
   ],
   "source": [
    "from pyspark.sql import SparkSession\n",
    "from pyspark.sql.functions import col\n",
    "\n",
    "# List of sensor columns to correlate with 'Room_Occupancy_Count'\n",
    "sensor_columns = [\n",
    "    \"S1_Temp\", \"S2_Temp\", \"S3_Temp\", \"S4_Temp\",\n",
    "    \"S1_Light\", \"S2_Light\", \"S3_Light\", \"S4_Light\",\n",
    "    \"S1_Sound\", \"S2_Sound\", \"S3_Sound\", \"S4_Sound\",\n",
    "    \"S5_CO2\", \"S5_CO2_Slope\", \"S6_PIR\", \"S7_PIR\"\n",
    "]\n",
    "\n",
    "# Dictionary to store the correlation values\n",
    "correlations = {}\n",
    "\n",
    "# Calculate correlation for each sensor and store it\n",
    "for sensor in sensor_columns:\n",
    "    correlation = df_spk.stat.corr(sensor, \"Room_Occupancy_Count\")\n",
    "    correlations[sensor] = correlation\n",
    "\n",
    "# Find the maximum correlation\n",
    "max_correlation_value = max(correlations.values())\n",
    "max_correlation_sensor = [sensor for sensor, corr in correlations.items() if corr == max_correlation_value][0]\n",
    "\n",
    "# Highlight the maximum correlation in the output\n",
    "for sensor, correlation in correlations.items():\n",
    "    if sensor == max_correlation_sensor:\n",
    "        # Using ANSI escape codes for colors: \\033[1m for bold, \\033[92m for green, \\033[0m to reset\n",
    "        print(f\"\\033[1m\\033[92mHighest Correlation between {sensor} and Room_Occupancy_Count: {correlation}\\033[0m\")\n",
    "    else:\n",
    "        print(f\"Correlation between {sensor} and Room_Occupancy_Count: {correlation}\")\n"
   ]
  },
  {
   "cell_type": "code",
   "execution_count": 15,
   "id": "f939fc84",
   "metadata": {},
   "outputs": [
    {
     "data": {
      "image/png": "[encoded data removed]",
      "text/plain": [
       "<Figure size 640x480 with 1 Axes>"
      ]
     },
     "metadata": {},
     "output_type": "display_data"
    }
   ],
   "source": [
    "# This line should be run after the creation of data sets on next step\n",
    "from statsmodels.graphics.tsaplots import plot_acf\n",
    "import matplotlib.pyplot as plt\n",
    "\n",
    "# `pandas_target_df` is a Pandas df before normalization of target variable\n",
    "plot_acf(pandas_target_df, lags=60)\n",
    "plt.show()"
   ]
  },
  {
   "cell_type": "markdown",
   "id": "24a90442",
   "metadata": {},
   "source": [
    "# Features and Target\n",
    "\n",
    " - Target is predict Room Ocuppancy which is(Room_Occupancy_Count)\n",
    " - All the sensors readings would be the features to be analysed\n",
    " - Let's perform a better Feature Engineering - separating onto differents df"
   ]
  },
  {
   "cell_type": "code",
   "execution_count": 11,
   "id": "93f83b73",
   "metadata": {},
   "outputs": [],
   "source": [
    "# Separating features and target variable - This step here it's just to don't go and just drop features.just to use the most correlated feature\n",
    "# Select only the 'S1_Light' column as the feature\n",
    "features_df = df.select('S1_Light')\n",
    "\n",
    "# Select 'Room_Occupancy_Count' as the target\n",
    "target_df = df.select('Room_Occupancy_Count')\n"
   ]
  },
  {
   "cell_type": "code",
   "execution_count": 12,
   "id": "7e10fb7d",
   "metadata": {},
   "outputs": [],
   "source": [
    "# features_df and target_df are a Spark DataFrames also, convert those to Pandas for normalization(Features)\n",
    "pandas_features_df = features_df.toPandas()\n",
    "pandas_target_df = target_df.toPandas()"
   ]
  },
  {
   "cell_type": "code",
   "execution_count": 13,
   "id": "7d925dfa",
   "metadata": {},
   "outputs": [],
   "source": [
    "# One-hot encode the target variable to perform classification to a categorical format\n",
    "pandas_target_df_categorical = pd.get_dummies(pandas_target_df['Room_Occupancy_Count'])"
   ]
  },
  {
   "cell_type": "code",
   "execution_count": 14,
   "id": "3a866e46",
   "metadata": {},
   "outputs": [],
   "source": [
    "# Normalize the feature data\n",
    "scaler_features = MinMaxScaler(feature_range=(0, 1))\n",
    "pandas_features_df_scaled = pd.DataFrame(scaler_features.fit_transform(pandas_features_df),\n",
    "                                         columns=pandas_features_df.columns)"
   ]
  },
  {
   "cell_type": "markdown",
   "id": "303c0f9e",
   "metadata": {},
   "source": [
    "## Preparation to aproach  a LSTM model\n",
    "\n",
    "    Transforming feature and target data into sequences as we have time series data.\n",
    "    This process involves using all data available to create sequences that LSTM model can learn from it."
   ]
  },
  {
   "cell_type": "code",
   "execution_count": 16,
   "id": "7053242a",
   "metadata": {},
   "outputs": [],
   "source": [
    "# Function to create sequences\n",
    "def create_sequences(X, y, time_steps=1):\n",
    "    Xs, ys = [], []\n",
    "    for i in range(len(X) - time_steps):\n",
    "        Xs.append(X.iloc[i:(i + time_steps)].values)\n",
    "        ys.append(y[i + time_steps])\n",
    "    return np.array(Xs), np.array(ys)"
   ]
  },
  {
   "cell_type": "code",
   "execution_count": 17,
   "id": "ecb257ba",
   "metadata": {},
   "outputs": [],
   "source": [
    "# Create sequences using the scaled features and one-hot encoded target\n",
    "time_steps = 60\n",
    "X, y = create_sequences(pandas_features_df_scaled, pandas_target_df_categorical.values, time_steps=time_steps)"
   ]
  },
  {
   "cell_type": "code",
   "execution_count": 18,
   "id": "4ca5e79c",
   "metadata": {},
   "outputs": [],
   "source": [
    "# Splitting time series data for LSTM models, ensuring the split preserves the sequence's temporal order\n",
    "# Determine the split point for an 80/20 train-test split\n",
    "\n",
    "# Split the data into training and testing sets\n",
    "split_point = int(len(X) * 0.8)\n",
    "X_train, X_test = X[:split_point], X[split_point:]\n",
    "y_train, y_test = y[:split_point], y[split_point:]"
   ]
  },
  {
   "cell_type": "code",
   "execution_count": 19,
   "id": "cbbcb91b",
   "metadata": {},
   "outputs": [
    {
     "name": "stdout",
     "output_type": "stream",
     "text": [
      "(8055, 60, 1) (8055, 4) (2014, 60, 1) (2014, 4)\n"
     ]
    }
   ],
   "source": [
    "print(X_train.shape, y_train.shape, X_test.shape, y_test.shape)"
   ]
  },
  {
   "cell_type": "code",
   "execution_count": 20,
   "id": "24c2540f",
   "metadata": {},
   "outputs": [],
   "source": [
    "# this step here it's needed in order to address class imbalance that was noticed during the experimentation fase\n",
    "# Using Smote technique\n",
    "from imblearn.over_sampling import SMOTE\n",
    "import numpy as np\n",
    "\n",
    "# Reshape the data from 3D to 2D\n",
    "nsamples, nx, ny = X_train.shape\n",
    "X_train_2d = X_train.reshape((nsamples, nx*ny))\n",
    "\n",
    "# Apply SMOTE\n",
    "smote = SMOTE()\n",
    "X_train_smote, y_train_smote = smote.fit_resample(X_train_2d, y_train)\n",
    "\n",
    "# Reshape the data back to 3D\n",
    "X_train_smote_3d = X_train_smote.reshape((-1, nx, ny))"
   ]
  },
  {
   "cell_type": "markdown",
   "id": "1dbe58a5",
   "metadata": {},
   "source": [
    "# LSTM model architecture"
   ]
  },
  {
   "cell_type": "code",
   "execution_count": 21,
   "id": "003108ca",
   "metadata": {},
   "outputs": [
    {
     "name": "stdout",
     "output_type": "stream",
     "text": [
      "Epoch 1/25\n",
      "\u001b[1m1166/1166\u001b[0m \u001b[32m━━━━━━━━━━━━━━━━━━━━\u001b[0m\u001b[37m\u001b[0m \u001b[1m10s\u001b[0m 9ms/step - accuracy: 0.5754 - loss: 1.6208 - val_accuracy: 0.0000e+00 - val_loss: 1.4067\n",
      "Epoch 2/25\n",
      "\u001b[1m1166/1166\u001b[0m \u001b[32m━━━━━━━━━━━━━━━━━━━━\u001b[0m\u001b[37m\u001b[0m \u001b[1m10s\u001b[0m 8ms/step - accuracy: 0.6012 - loss: 1.0208 - val_accuracy: 0.6341 - val_loss: 0.9648\n",
      "Epoch 3/25\n",
      "\u001b[1m1166/1166\u001b[0m \u001b[32m━━━━━━━━━━━━━━━━━━━━\u001b[0m\u001b[37m\u001b[0m \u001b[1m10s\u001b[0m 8ms/step - accuracy: 0.6983 - loss: 0.6921 - val_accuracy: 0.6318 - val_loss: 0.9029\n",
      "Epoch 4/25\n",
      "\u001b[1m1166/1166\u001b[0m \u001b[32m━━━━━━━━━━━━━━━━━━━━\u001b[0m\u001b[37m\u001b[0m \u001b[1m10s\u001b[0m 8ms/step - accuracy: 0.7009 - loss: 0.6732 - val_accuracy: 0.5832 - val_loss: 0.9408\n",
      "Epoch 5/25\n",
      "\u001b[1m1166/1166\u001b[0m \u001b[32m━━━━━━━━━━━━━━━━━━━━\u001b[0m\u001b[37m\u001b[0m \u001b[1m9s\u001b[0m 8ms/step - accuracy: 0.7028 - loss: 0.6168 - val_accuracy: 0.6326 - val_loss: 0.9330\n",
      "Epoch 6/25\n",
      "\u001b[1m1166/1166\u001b[0m \u001b[32m━━━━━━━━━━━━━━━━━━━━\u001b[0m\u001b[37m\u001b[0m \u001b[1m10s\u001b[0m 8ms/step - accuracy: 0.7343 - loss: 0.5526 - val_accuracy: 0.5893 - val_loss: 0.8804\n",
      "Epoch 7/25\n",
      "\u001b[1m1166/1166\u001b[0m \u001b[32m━━━━━━━━━━━━━━━━━━━━\u001b[0m\u001b[37m\u001b[0m \u001b[1m10s\u001b[0m 8ms/step - accuracy: 0.7178 - loss: 0.7071 - val_accuracy: 0.6974 - val_loss: 0.8465\n",
      "Epoch 8/25\n",
      "\u001b[1m1166/1166\u001b[0m \u001b[32m━━━━━━━━━━━━━━━━━━━━\u001b[0m\u001b[37m\u001b[0m \u001b[1m10s\u001b[0m 8ms/step - accuracy: 0.7581 - loss: 0.5355 - val_accuracy: 0.6233 - val_loss: 0.9515\n",
      "Epoch 9/25\n",
      "\u001b[1m1166/1166\u001b[0m \u001b[32m━━━━━━━━━━━━━━━━━━━━\u001b[0m\u001b[37m\u001b[0m \u001b[1m10s\u001b[0m 9ms/step - accuracy: 0.7647 - loss: 0.5212 - val_accuracy: 0.5639 - val_loss: 0.9394\n",
      "Epoch 10/25\n",
      "\u001b[1m1166/1166\u001b[0m \u001b[32m━━━━━━━━━━━━━━━━━━━━\u001b[0m\u001b[37m\u001b[0m \u001b[1m10s\u001b[0m 9ms/step - accuracy: 0.7932 - loss: 0.4781 - val_accuracy: 0.7051 - val_loss: 0.7999\n",
      "Epoch 11/25\n",
      "\u001b[1m1166/1166\u001b[0m \u001b[32m━━━━━━━━━━━━━━━━━━━━\u001b[0m\u001b[37m\u001b[0m \u001b[1m9s\u001b[0m 8ms/step - accuracy: 0.8079 - loss: 0.4578 - val_accuracy: 0.7040 - val_loss: 0.8999\n",
      "Epoch 12/25\n",
      "\u001b[1m1166/1166\u001b[0m \u001b[32m━━━━━━━━━━━━━━━━━━━━\u001b[0m\u001b[37m\u001b[0m \u001b[1m9s\u001b[0m 8ms/step - accuracy: 0.8177 - loss: 0.4412 - val_accuracy: 0.2034 - val_loss: 1.0789\n",
      "Epoch 13/25\n",
      "\u001b[1m1166/1166\u001b[0m \u001b[32m━━━━━━━━━━━━━━━━━━━━\u001b[0m\u001b[37m\u001b[0m \u001b[1m10s\u001b[0m 8ms/step - accuracy: 0.7152 - loss: 0.5873 - val_accuracy: 0.6712 - val_loss: 1.0335\n",
      "Epoch 14/25\n",
      "\u001b[1m1166/1166\u001b[0m \u001b[32m━━━━━━━━━━━━━━━━━━━━\u001b[0m\u001b[37m\u001b[0m \u001b[1m10s\u001b[0m 8ms/step - accuracy: 0.7476 - loss: 0.5582 - val_accuracy: 0.5562 - val_loss: 0.9160\n",
      "Epoch 15/25\n",
      "\u001b[1m1166/1166\u001b[0m \u001b[32m━━━━━━━━━━━━━━━━━━━━\u001b[0m\u001b[37m\u001b[0m \u001b[1m10s\u001b[0m 8ms/step - accuracy: 0.7206 - loss: 0.6373 - val_accuracy: 0.5573 - val_loss: 0.9431\n",
      "Epoch 16/25\n",
      "\u001b[1m1166/1166\u001b[0m \u001b[32m━━━━━━━━━━━━━━━━━━━━\u001b[0m\u001b[37m\u001b[0m \u001b[1m10s\u001b[0m 8ms/step - accuracy: 0.7523 - loss: 62.4188 - val_accuracy: 0.7102 - val_loss: 0.6606\n",
      "Epoch 17/25\n",
      "\u001b[1m1166/1166\u001b[0m \u001b[32m━━━━━━━━━━━━━━━━━━━━\u001b[0m\u001b[37m\u001b[0m \u001b[1m10s\u001b[0m 8ms/step - accuracy: 0.8744 - loss: 0.3479 - val_accuracy: 0.7545 - val_loss: 0.5804\n",
      "Epoch 18/25\n",
      "\u001b[1m1166/1166\u001b[0m \u001b[32m━━━━━━━━━━━━━━━━━━━━\u001b[0m\u001b[37m\u001b[0m \u001b[1m10s\u001b[0m 8ms/step - accuracy: 0.8961 - loss: 0.2930 - val_accuracy: 0.6561 - val_loss: 0.6182\n",
      "Epoch 19/25\n",
      "\u001b[1m1166/1166\u001b[0m \u001b[32m━━━━━━━━━━━━━━━━━━━━\u001b[0m\u001b[37m\u001b[0m \u001b[1m11s\u001b[0m 9ms/step - accuracy: 0.9045 - loss: 0.2841 - val_accuracy: 0.6611 - val_loss: 0.6661\n",
      "Epoch 20/25\n",
      "\u001b[1m1166/1166\u001b[0m \u001b[32m━━━━━━━━━━━━━━━━━━━━\u001b[0m\u001b[37m\u001b[0m \u001b[1m10s\u001b[0m 8ms/step - accuracy: 0.9030 - loss: 0.2759 - val_accuracy: 0.7445 - val_loss: 0.7299\n",
      "Epoch 21/25\n",
      "\u001b[1m1166/1166\u001b[0m \u001b[32m━━━━━━━━━━━━━━━━━━━━\u001b[0m\u001b[37m\u001b[0m \u001b[1m10s\u001b[0m 8ms/step - accuracy: 0.9047 - loss: 0.2840 - val_accuracy: 0.5739 - val_loss: 1.0397\n",
      "Epoch 22/25\n",
      "\u001b[1m1166/1166\u001b[0m \u001b[32m━━━━━━━━━━━━━━━━━━━━\u001b[0m\u001b[37m\u001b[0m \u001b[1m10s\u001b[0m 8ms/step - accuracy: 0.7841 - loss: 0.5101 - val_accuracy: 0.6345 - val_loss: 0.8083\n",
      "Epoch 23/25\n",
      "\u001b[1m1166/1166\u001b[0m \u001b[32m━━━━━━━━━━━━━━━━━━━━\u001b[0m\u001b[37m\u001b[0m \u001b[1m10s\u001b[0m 8ms/step - accuracy: 0.8648 - loss: 0.4080 - val_accuracy: 0.6168 - val_loss: 0.9269\n",
      "Epoch 24/25\n",
      "\u001b[1m1166/1166\u001b[0m \u001b[32m━━━━━━━━━━━━━━━━━━━━\u001b[0m\u001b[37m\u001b[0m \u001b[1m10s\u001b[0m 9ms/step - accuracy: 0.8705 - loss: 0.3581 - val_accuracy: 0.6021 - val_loss: 0.8010\n",
      "Epoch 25/25\n",
      "\u001b[1m1166/1166\u001b[0m \u001b[32m━━━━━━━━━━━━━━━━━━━━\u001b[0m\u001b[37m\u001b[0m \u001b[1m10s\u001b[0m 9ms/step - accuracy: 0.8828 - loss: 0.3363 - val_accuracy: 0.7812 - val_loss: 0.4417\n"
     ]
    }
   ],
   "source": [
    "# Define the LSTM model for classification\n",
    "model = Sequential([\n",
    "    LSTM(80, activation='relu', input_shape=(X_train_smote_3d.shape[1], X_train_smote_3d.shape[2])),\n",
    "    Dense(4, activation='softmax')  # 4 output units for 4 classes (0, 1, 2, 3)\n",
    "])\n",
    "\n",
    "# Compile the model with categorical crossentropy loss and accuracy metric\n",
    "model.compile(optimizer='adam', loss='categorical_crossentropy', metrics=['accuracy'])\n",
    "\n",
    "# Train the model on the SMOTE-resampled dataset\n",
    "history = model.fit(X_train_smote_3d, y_train_smote, epochs=25, batch_size=20, validation_split=0.1, verbose=1)\n"
   ]
  },
  {
   "cell_type": "markdown",
   "id": "93c5ba6b",
   "metadata": {},
   "source": [
    "### Evaluating on the test set"
   ]
  },
  {
   "cell_type": "code",
   "execution_count": 22,
   "id": "2f8e930b",
   "metadata": {},
   "outputs": [
    {
     "name": "stdout",
     "output_type": "stream",
     "text": [
      "\u001b[1m810/810\u001b[0m \u001b[32m━━━━━━━━━━━━━━━━━━━━\u001b[0m\u001b[37m\u001b[0m \u001b[1m5s\u001b[0m 6ms/step - accuracy: 0.9524 - loss: 0.2040\n",
      "Test Accuracy: 91.49%\n"
     ]
    }
   ],
   "source": [
    "test_loss, test_accuracy = model.evaluate(X_train_smote_3d, y_train_smote)\n",
    "print(f\"Test Accuracy: {test_accuracy * 100:.2f}%\")"
   ]
  },
  {
   "cell_type": "code",
   "execution_count": 23,
   "id": "2928cdca",
   "metadata": {},
   "outputs": [
    {
     "name": "stdout",
     "output_type": "stream",
     "text": [
      "\u001b[1m63/63\u001b[0m \u001b[32m━━━━━━━━━━━━━━━━━━━━\u001b[0m\u001b[37m\u001b[0m \u001b[1m1s\u001b[0m 8ms/step\n"
     ]
    }
   ],
   "source": [
    "# Predict and convert probabilities to class labels\n",
    "y_pred_proba = model.predict(X_test)\n",
    "y_pred_labels = np.argmax(y_pred_proba, axis=1)\n",
    "\n",
    "#Convert true labels from one-hot encoding to class labels for comparison\n",
    "y_true_labels = np.argmax(y_test, axis=1)\n"
   ]
  },
  {
   "cell_type": "code",
   "execution_count": 24,
   "id": "c3cee3f2",
   "metadata": {},
   "outputs": [
    {
     "name": "stdout",
     "output_type": "stream",
     "text": [
      "              precision    recall  f1-score   support\n",
      "\n",
      "           0       0.92      1.00      0.96      1751\n",
      "           1       0.00      0.00      0.00         0\n",
      "           2       1.00      0.03      0.06        93\n",
      "           3       0.18      0.08      0.11       170\n",
      "\n",
      "    accuracy                           0.87      2014\n",
      "   macro avg       0.53      0.28      0.28      2014\n",
      "weighted avg       0.86      0.87      0.85      2014\n",
      "\n"
     ]
    }
   ],
   "source": [
    "# Analyzing the results using confusion matrix, classification report\n",
    "from sklearn.metrics import classification_report, confusion_matrix\n",
    "print(classification_report(y_true_labels, y_pred_labels))"
   ]
  },
  {
   "cell_type": "code",
   "execution_count": 25,
   "id": "ed734552",
   "metadata": {},
   "outputs": [
    {
     "data": {
      "image/png": "[encoded data removed]",
      "text/plain": [
       "<Figure size 640x480 with 1 Axes>"
      ]
     },
     "metadata": {},
     "output_type": "display_data"
    }
   ],
   "source": [
    "import matplotlib.pyplot as plt\n",
    "\n",
    "plt.plot(history.history['loss'], label='Training Loss')\n",
    "plt.plot(history.history['val_loss'], label='Validation Loss')\n",
    "plt.title('Training and Validation Loss Over Epochs')\n",
    "plt.xlabel('Epochs')\n",
    "plt.ylabel('Loss')\n",
    "plt.legend()\n",
    "plt.show()"
   ]
  },
  {
   "cell_type": "code",
   "execution_count": 26,
   "id": "7d959644",
   "metadata": {},
   "outputs": [
    {
     "data": {
      "image/png": "[encoded data removed]",
      "text/plain": [
       "<Figure size 640x480 with 2 Axes>"
      ]
     },
     "metadata": {},
     "output_type": "display_data"
    }
   ],
   "source": [
    "from sklearn.metrics import confusion_matrix\n",
    "import seaborn as sns\n",
    "\n",
    "conf_matrix = confusion_matrix(y_true_labels, y_pred_labels)\n",
    "sns.heatmap(conf_matrix, annot=True, fmt='d', cmap='Blues', xticklabels=[0, 1, 2, 3], yticklabels=[0, 1, 2, 3])\n",
    "plt.title('Confusion Matrix')\n",
    "plt.xlabel('Predicted Labels')\n",
    "plt.ylabel('True Labels')\n",
    "plt.show()"
   ]
  }
 ],
 "metadata": {
  "kernelspec": {
   "display_name": "Python (CA1-2sem)",
   "language": "python",
   "name": "ca1-2sem"
  },
  "language_info": {
   "codemirror_mode": {
    "name": "ipython",
    "version": 3
   },
   "file_extension": ".py",
   "mimetype": "text/x-python",
   "name": "python",
   "nbconvert_exporter": "python",
   "pygments_lexer": "ipython3",
   "version": "3.11.6"
  }
 },
 "nbformat": 4,
 "nbformat_minor": 5
}
